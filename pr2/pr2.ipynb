{
 "cells": [
  {
   "metadata": {},
   "cell_type": "markdown",
   "source": "# Практическая работа 2",
   "id": "a9c867f651244b48"
  },
  {
   "metadata": {},
   "cell_type": "markdown",
   "source": "# 1",
   "id": "2474db96169d329e"
  },
  {
   "metadata": {
    "ExecuteTime": {
     "end_time": "2024-09-15T10:31:15.890514Z",
     "start_time": "2024-09-15T10:31:14.420566Z"
    }
   },
   "cell_type": "code",
   "source": [
    "import pandas as pd\n",
    "\n",
    "data = pd.read_csv('game_logs.csv', low_memory=False)"
   ],
   "id": "25dddd37aa04f87f",
   "outputs": [],
   "execution_count": 48
  },
  {
   "metadata": {},
   "cell_type": "markdown",
   "source": "# 2",
   "id": "55790d3a2641e584"
  },
  {
   "metadata": {
    "ExecuteTime": {
     "end_time": "2024-09-15T10:31:16.946257Z",
     "start_time": "2024-09-15T10:31:15.891544Z"
    }
   },
   "cell_type": "code",
   "source": [
    "print(data.head())\n",
    "print(data.info(memory_usage='deep'))\n",
    "\n",
    "data.dropna()"
   ],
   "id": "28aa84ed0e40d5ed",
   "outputs": [
    {
     "name": "stdout",
     "output_type": "stream",
     "text": [
      "       date  number_of_game day_of_week v_name v_league  v_game_number h_name  \\\n",
      "0  18710504               0         Thu    CL1       na              1    FW1   \n",
      "1  18710505               0         Fri    BS1       na              1    WS3   \n",
      "2  18710506               0         Sat    CL1       na              2    RC1   \n",
      "3  18710508               0         Mon    CL1       na              3    CH1   \n",
      "4  18710509               0         Tue    BS1       na              2    TRO   \n",
      "\n",
      "  h_league  h_game_number  v_score  ...  h_player_7_name  h_player_7_def_pos  \\\n",
      "0       na              1        0  ...       Ed Mincher                 7.0   \n",
      "1       na              1       20  ...     Asa Brainard                 1.0   \n",
      "2       na              1       12  ...       Pony Sager                 6.0   \n",
      "3       na              1       12  ...         Ed Duffy                 6.0   \n",
      "4       na              1        9  ...     Steve Bellan                 5.0   \n",
      "\n",
      "  h_player_8_id  h_player_8_name h_player_8_def_pos h_player_9_id  \\\n",
      "0      mcdej101  James McDermott                8.0      kellb105   \n",
      "1      burrh101  Henry Burroughs                9.0      berth101   \n",
      "2      birdg101      George Bird                7.0      stirg101   \n",
      "3      pinke101       Ed Pinkham                5.0      zettg101   \n",
      "4      pikel101         Lip Pike                3.0      cravb101   \n",
      "\n",
      "   h_player_9_name  h_player_9_def_pos  additional_info acquisition_info  \n",
      "0       Bill Kelly                 9.0              NaN                Y  \n",
      "1  Henry Berthrong                 8.0             HTBF                Y  \n",
      "2       Gat Stires                 9.0              NaN                Y  \n",
      "3  George Zettlein                 1.0              NaN                Y  \n",
      "4      Bill Craver                 6.0             HTBF                Y  \n",
      "\n",
      "[5 rows x 161 columns]\n",
      "<class 'pandas.core.frame.DataFrame'>\n",
      "RangeIndex: 92111 entries, 0 to 92110\n",
      "Columns: 161 entries, date to acquisition_info\n",
      "dtypes: float64(75), int64(7), object(79)\n",
      "memory usage: 442.6 MB\n",
      "None\n"
     ]
    },
    {
     "data": {
      "text/plain": [
       "Empty DataFrame\n",
       "Columns: [date, number_of_game, day_of_week, v_name, v_league, v_game_number, h_name, h_league, h_game_number, v_score, h_score, length_outs, day_night, completion, forefeit, protest, park_id, attendance, length_minutes, v_line_score, h_line_score, v_at_bats, v_hits, v_doubles, v_triples, v_homeruns, v_rbi, v_sacrifice_hits, v_sacrifice_flies, v_hit_by_pitch, v_walks, v_intentional_walks, v_strikeouts, v_stolen_bases, v_caught_stealing, v_grounded_into_double, v_first_catcher_interference, v_left_on_base, v_pitchers_used, v_individual_earned_runs, v_team_earned_runs, v_wild_pitches, v_balks, v_putouts, v_assists, v_errors, v_passed_balls, v_double_plays, v_triple_plays, h_at_bats, h_hits, h_doubles, h_triples, h_homeruns, h_rbi, h_sacrifice_hits, h_sacrifice_flies, h_hit_by_pitch, h_walks, h_intentional_walks, h_strikeouts, h_stolen_bases, h_caught_stealing, h_grounded_into_double, h_first_catcher_interference, h_left_on_base, h_pitchers_used, h_individual_earned_runs, h_team_earned_runs, h_wild_pitches, h_balks, h_putouts, h_assists, h_errors, h_passed_balls, h_double_plays, h_triple_plays, hp_umpire_id, hp_umpire_name, 1b_umpire_id, 1b_umpire_name, 2b_umpire_id, 2b_umpire_name, 3b_umpire_id, 3b_umpire_name, lf_umpire_id, lf_umpire_name, rf_umpire_id, rf_umpire_name, v_manager_id, v_manager_name, h_manager_id, h_manager_name, winning_pitcher_id, winning_pitcher_name, losing_pitcher_id, losing_pitcher_name, saving_pitcher_id, saving_pitcher_name, winning_rbi_batter_id, ...]\n",
       "Index: []\n",
       "\n",
       "[0 rows x 161 columns]"
      ],
      "text/html": [
       "<div>\n",
       "<style scoped>\n",
       "    .dataframe tbody tr th:only-of-type {\n",
       "        vertical-align: middle;\n",
       "    }\n",
       "\n",
       "    .dataframe tbody tr th {\n",
       "        vertical-align: top;\n",
       "    }\n",
       "\n",
       "    .dataframe thead th {\n",
       "        text-align: right;\n",
       "    }\n",
       "</style>\n",
       "<table border=\"1\" class=\"dataframe\">\n",
       "  <thead>\n",
       "    <tr style=\"text-align: right;\">\n",
       "      <th></th>\n",
       "      <th>date</th>\n",
       "      <th>number_of_game</th>\n",
       "      <th>day_of_week</th>\n",
       "      <th>v_name</th>\n",
       "      <th>v_league</th>\n",
       "      <th>v_game_number</th>\n",
       "      <th>h_name</th>\n",
       "      <th>h_league</th>\n",
       "      <th>h_game_number</th>\n",
       "      <th>v_score</th>\n",
       "      <th>...</th>\n",
       "      <th>h_player_7_name</th>\n",
       "      <th>h_player_7_def_pos</th>\n",
       "      <th>h_player_8_id</th>\n",
       "      <th>h_player_8_name</th>\n",
       "      <th>h_player_8_def_pos</th>\n",
       "      <th>h_player_9_id</th>\n",
       "      <th>h_player_9_name</th>\n",
       "      <th>h_player_9_def_pos</th>\n",
       "      <th>additional_info</th>\n",
       "      <th>acquisition_info</th>\n",
       "    </tr>\n",
       "  </thead>\n",
       "  <tbody>\n",
       "  </tbody>\n",
       "</table>\n",
       "<p>0 rows × 161 columns</p>\n",
       "</div>"
      ]
     },
     "execution_count": 49,
     "metadata": {},
     "output_type": "execute_result"
    }
   ],
   "execution_count": 49
  },
  {
   "metadata": {},
   "cell_type": "markdown",
   "source": "# 3",
   "id": "af27041e612e81d2"
  },
  {
   "metadata": {
    "ExecuteTime": {
     "end_time": "2024-09-15T10:31:16.979764Z",
     "start_time": "2024-09-15T10:31:16.947262Z"
    }
   },
   "cell_type": "code",
   "source": [
    "from plotly import graph_objs as go\n",
    "\n",
    "def make_bar(attendance):\n",
    "    figure = go.Figure()\n",
    "    figure.add_trace(go.Bar(\n",
    "        x=attendance.keys(),\n",
    "        y=attendance,\n",
    "        marker=dict(color=attendance, coloraxis='coloraxis'),\n",
    "    ))\n",
    "    figure.update_traces(marker_line_color='rgb(0,0,0)', marker_line_width=2)\n",
    "    figure.update_layout(\n",
    "        title=dict(\n",
    "            font=dict(size=20, color='black'),\n",
    "            x=0.5,\n",
    "            y=1,\n",
    "            text='Attendance by home team',\n",
    "        ),\n",
    "        xaxis_title=dict(text=\"Team\", font=dict(size=16, color='black')),\n",
    "        yaxis_title=dict(text=\"Attendance\", font=dict(size=16, color='black')),\n",
    "        height=700,\n",
    "        margin=dict(l=0, r=0, t=20, b=0)\n",
    "    )\n",
    "    figure.update_xaxes(tickangle=315, gridwidth=2, gridcolor='ivory', tickfont_size=14)\n",
    "    figure.update_yaxes(gridwidth=2, gridcolor='ivory', tickfont_size=14)\n",
    "    figure.show()\n",
    "\n",
    "unique_teams = data['h_name'].unique()\n",
    "mean_attendance_by_home_team = data.groupby(by=['h_name'])['attendance'].mean()\n",
    "\n",
    "make_bar(attendance=mean_attendance_by_home_team)\n"
   ],
   "id": "a1757eafbeaef8b5",
   "outputs": [
    {
     "data": {
      "application/vnd.plotly.v1+json": {
       "data": [
        {
         "marker": {
          "color": [
           37144.355587808415,
           29029.30864197531,
           24632.20484848485,
           21569.05316973415,
           1614.2857142857142,
           24401.61450777202,
           500.0,
           250.0,
           16056.282401091405,
           2294.7368421052633,
           10557.020289855072,
           24823.19612794613,
           5381.25,
           19018.916926272068,
           22753.09300518135,
           18498.449961008577,
           1462.5,
           17652.289569278673,
           32355.59724238026,
           22862.12939958592,
           17063.77525773196,
           587.5,
           24567.82935518347,
           10317.592412451362,
           23275.12981199642,
           10271.098461538462,
           37177.36486053222,
           22283.913366336634,
           500.0,
           27628.2,
           22384.13995174078,
           19312.757605495583,
           18216.312302839116,
           12855.41426611797,
           2258.695652173913,
           30486.973520249223,
           28666.464362081253,
           20919.357695614788,
           3916.6666666666665,
           6913.352362204724,
           22339.775298391283,
           17050.19797349961,
           1033.3333333333333,
           25360.617030762372,
           8148.963414634146,
           24275.607472324722,
           27246.708146247594,
           4661.6858513189445,
           27335.677988073632,
           17657.07709090909,
           26763.63165201296,
           26778.90041685966,
           1217.857142857143,
           28304.76288659794,
           7852.1821946169775,
           8100.231622746186,
           1896.1538461538462,
           225.0
          ],
          "coloraxis": "coloraxis",
          "line": {
           "color": "rgb(0,0,0)",
           "width": 2
          }
         },
         "x": [
          "ANA",
          "ARI",
          "ATL",
          "BAL",
          "BL1",
          "BOS",
          "BR1",
          "BR2",
          "BRO",
          "BS1",
          "BSN",
          "CAL",
          "CH1",
          "CHA",
          "CHN",
          "CIN",
          "CL1",
          "CLE",
          "COL",
          "DET",
          "FLO",
          "FW1",
          "HOU",
          "KC1",
          "KCA",
          "LAA",
          "LAN",
          "MIA",
          "MID",
          "MIL",
          "MIN",
          "MLN",
          "MON",
          "NY1",
          "NY2",
          "NYA",
          "NYN",
          "OAK",
          "PH1",
          "PHA",
          "PHI",
          "PIT",
          "RC1",
          "SDN",
          "SE1",
          "SEA",
          "SFN",
          "SLA",
          "SLN",
          "TBA",
          "TEX",
          "TOR",
          "TRO",
          "WAS",
          "WS1",
          "WS2",
          "WS3",
          "WS4"
         ],
         "y": [
          37144.355587808415,
          29029.30864197531,
          24632.20484848485,
          21569.05316973415,
          1614.2857142857142,
          24401.61450777202,
          500.0,
          250.0,
          16056.282401091405,
          2294.7368421052633,
          10557.020289855072,
          24823.19612794613,
          5381.25,
          19018.916926272068,
          22753.09300518135,
          18498.449961008577,
          1462.5,
          17652.289569278673,
          32355.59724238026,
          22862.12939958592,
          17063.77525773196,
          587.5,
          24567.82935518347,
          10317.592412451362,
          23275.12981199642,
          10271.098461538462,
          37177.36486053222,
          22283.913366336634,
          500.0,
          27628.2,
          22384.13995174078,
          19312.757605495583,
          18216.312302839116,
          12855.41426611797,
          2258.695652173913,
          30486.973520249223,
          28666.464362081253,
          20919.357695614788,
          3916.6666666666665,
          6913.352362204724,
          22339.775298391283,
          17050.19797349961,
          1033.3333333333333,
          25360.617030762372,
          8148.963414634146,
          24275.607472324722,
          27246.708146247594,
          4661.6858513189445,
          27335.677988073632,
          17657.07709090909,
          26763.63165201296,
          26778.90041685966,
          1217.857142857143,
          28304.76288659794,
          7852.1821946169775,
          8100.231622746186,
          1896.1538461538462,
          225.0
         ],
         "type": "bar"
        }
       ],
       "layout": {
        "template": {
         "data": {
          "histogram2dcontour": [
           {
            "type": "histogram2dcontour",
            "colorbar": {
             "outlinewidth": 0,
             "ticks": ""
            },
            "colorscale": [
             [
              0.0,
              "#0d0887"
             ],
             [
              0.1111111111111111,
              "#46039f"
             ],
             [
              0.2222222222222222,
              "#7201a8"
             ],
             [
              0.3333333333333333,
              "#9c179e"
             ],
             [
              0.4444444444444444,
              "#bd3786"
             ],
             [
              0.5555555555555556,
              "#d8576b"
             ],
             [
              0.6666666666666666,
              "#ed7953"
             ],
             [
              0.7777777777777778,
              "#fb9f3a"
             ],
             [
              0.8888888888888888,
              "#fdca26"
             ],
             [
              1.0,
              "#f0f921"
             ]
            ]
           }
          ],
          "choropleth": [
           {
            "type": "choropleth",
            "colorbar": {
             "outlinewidth": 0,
             "ticks": ""
            }
           }
          ],
          "histogram2d": [
           {
            "type": "histogram2d",
            "colorbar": {
             "outlinewidth": 0,
             "ticks": ""
            },
            "colorscale": [
             [
              0.0,
              "#0d0887"
             ],
             [
              0.1111111111111111,
              "#46039f"
             ],
             [
              0.2222222222222222,
              "#7201a8"
             ],
             [
              0.3333333333333333,
              "#9c179e"
             ],
             [
              0.4444444444444444,
              "#bd3786"
             ],
             [
              0.5555555555555556,
              "#d8576b"
             ],
             [
              0.6666666666666666,
              "#ed7953"
             ],
             [
              0.7777777777777778,
              "#fb9f3a"
             ],
             [
              0.8888888888888888,
              "#fdca26"
             ],
             [
              1.0,
              "#f0f921"
             ]
            ]
           }
          ],
          "heatmap": [
           {
            "type": "heatmap",
            "colorbar": {
             "outlinewidth": 0,
             "ticks": ""
            },
            "colorscale": [
             [
              0.0,
              "#0d0887"
             ],
             [
              0.1111111111111111,
              "#46039f"
             ],
             [
              0.2222222222222222,
              "#7201a8"
             ],
             [
              0.3333333333333333,
              "#9c179e"
             ],
             [
              0.4444444444444444,
              "#bd3786"
             ],
             [
              0.5555555555555556,
              "#d8576b"
             ],
             [
              0.6666666666666666,
              "#ed7953"
             ],
             [
              0.7777777777777778,
              "#fb9f3a"
             ],
             [
              0.8888888888888888,
              "#fdca26"
             ],
             [
              1.0,
              "#f0f921"
             ]
            ]
           }
          ],
          "heatmapgl": [
           {
            "type": "heatmapgl",
            "colorbar": {
             "outlinewidth": 0,
             "ticks": ""
            },
            "colorscale": [
             [
              0.0,
              "#0d0887"
             ],
             [
              0.1111111111111111,
              "#46039f"
             ],
             [
              0.2222222222222222,
              "#7201a8"
             ],
             [
              0.3333333333333333,
              "#9c179e"
             ],
             [
              0.4444444444444444,
              "#bd3786"
             ],
             [
              0.5555555555555556,
              "#d8576b"
             ],
             [
              0.6666666666666666,
              "#ed7953"
             ],
             [
              0.7777777777777778,
              "#fb9f3a"
             ],
             [
              0.8888888888888888,
              "#fdca26"
             ],
             [
              1.0,
              "#f0f921"
             ]
            ]
           }
          ],
          "contourcarpet": [
           {
            "type": "contourcarpet",
            "colorbar": {
             "outlinewidth": 0,
             "ticks": ""
            }
           }
          ],
          "contour": [
           {
            "type": "contour",
            "colorbar": {
             "outlinewidth": 0,
             "ticks": ""
            },
            "colorscale": [
             [
              0.0,
              "#0d0887"
             ],
             [
              0.1111111111111111,
              "#46039f"
             ],
             [
              0.2222222222222222,
              "#7201a8"
             ],
             [
              0.3333333333333333,
              "#9c179e"
             ],
             [
              0.4444444444444444,
              "#bd3786"
             ],
             [
              0.5555555555555556,
              "#d8576b"
             ],
             [
              0.6666666666666666,
              "#ed7953"
             ],
             [
              0.7777777777777778,
              "#fb9f3a"
             ],
             [
              0.8888888888888888,
              "#fdca26"
             ],
             [
              1.0,
              "#f0f921"
             ]
            ]
           }
          ],
          "surface": [
           {
            "type": "surface",
            "colorbar": {
             "outlinewidth": 0,
             "ticks": ""
            },
            "colorscale": [
             [
              0.0,
              "#0d0887"
             ],
             [
              0.1111111111111111,
              "#46039f"
             ],
             [
              0.2222222222222222,
              "#7201a8"
             ],
             [
              0.3333333333333333,
              "#9c179e"
             ],
             [
              0.4444444444444444,
              "#bd3786"
             ],
             [
              0.5555555555555556,
              "#d8576b"
             ],
             [
              0.6666666666666666,
              "#ed7953"
             ],
             [
              0.7777777777777778,
              "#fb9f3a"
             ],
             [
              0.8888888888888888,
              "#fdca26"
             ],
             [
              1.0,
              "#f0f921"
             ]
            ]
           }
          ],
          "mesh3d": [
           {
            "type": "mesh3d",
            "colorbar": {
             "outlinewidth": 0,
             "ticks": ""
            }
           }
          ],
          "scatter": [
           {
            "fillpattern": {
             "fillmode": "overlay",
             "size": 10,
             "solidity": 0.2
            },
            "type": "scatter"
           }
          ],
          "parcoords": [
           {
            "type": "parcoords",
            "line": {
             "colorbar": {
              "outlinewidth": 0,
              "ticks": ""
             }
            }
           }
          ],
          "scatterpolargl": [
           {
            "type": "scatterpolargl",
            "marker": {
             "colorbar": {
              "outlinewidth": 0,
              "ticks": ""
             }
            }
           }
          ],
          "bar": [
           {
            "error_x": {
             "color": "#2a3f5f"
            },
            "error_y": {
             "color": "#2a3f5f"
            },
            "marker": {
             "line": {
              "color": "#E5ECF6",
              "width": 0.5
             },
             "pattern": {
              "fillmode": "overlay",
              "size": 10,
              "solidity": 0.2
             }
            },
            "type": "bar"
           }
          ],
          "scattergeo": [
           {
            "type": "scattergeo",
            "marker": {
             "colorbar": {
              "outlinewidth": 0,
              "ticks": ""
             }
            }
           }
          ],
          "scatterpolar": [
           {
            "type": "scatterpolar",
            "marker": {
             "colorbar": {
              "outlinewidth": 0,
              "ticks": ""
             }
            }
           }
          ],
          "histogram": [
           {
            "marker": {
             "pattern": {
              "fillmode": "overlay",
              "size": 10,
              "solidity": 0.2
             }
            },
            "type": "histogram"
           }
          ],
          "scattergl": [
           {
            "type": "scattergl",
            "marker": {
             "colorbar": {
              "outlinewidth": 0,
              "ticks": ""
             }
            }
           }
          ],
          "scatter3d": [
           {
            "type": "scatter3d",
            "line": {
             "colorbar": {
              "outlinewidth": 0,
              "ticks": ""
             }
            },
            "marker": {
             "colorbar": {
              "outlinewidth": 0,
              "ticks": ""
             }
            }
           }
          ],
          "scattermapbox": [
           {
            "type": "scattermapbox",
            "marker": {
             "colorbar": {
              "outlinewidth": 0,
              "ticks": ""
             }
            }
           }
          ],
          "scatterternary": [
           {
            "type": "scatterternary",
            "marker": {
             "colorbar": {
              "outlinewidth": 0,
              "ticks": ""
             }
            }
           }
          ],
          "scattercarpet": [
           {
            "type": "scattercarpet",
            "marker": {
             "colorbar": {
              "outlinewidth": 0,
              "ticks": ""
             }
            }
           }
          ],
          "carpet": [
           {
            "aaxis": {
             "endlinecolor": "#2a3f5f",
             "gridcolor": "white",
             "linecolor": "white",
             "minorgridcolor": "white",
             "startlinecolor": "#2a3f5f"
            },
            "baxis": {
             "endlinecolor": "#2a3f5f",
             "gridcolor": "white",
             "linecolor": "white",
             "minorgridcolor": "white",
             "startlinecolor": "#2a3f5f"
            },
            "type": "carpet"
           }
          ],
          "table": [
           {
            "cells": {
             "fill": {
              "color": "#EBF0F8"
             },
             "line": {
              "color": "white"
             }
            },
            "header": {
             "fill": {
              "color": "#C8D4E3"
             },
             "line": {
              "color": "white"
             }
            },
            "type": "table"
           }
          ],
          "barpolar": [
           {
            "marker": {
             "line": {
              "color": "#E5ECF6",
              "width": 0.5
             },
             "pattern": {
              "fillmode": "overlay",
              "size": 10,
              "solidity": 0.2
             }
            },
            "type": "barpolar"
           }
          ],
          "pie": [
           {
            "automargin": true,
            "type": "pie"
           }
          ]
         },
         "layout": {
          "autotypenumbers": "strict",
          "colorway": [
           "#636efa",
           "#EF553B",
           "#00cc96",
           "#ab63fa",
           "#FFA15A",
           "#19d3f3",
           "#FF6692",
           "#B6E880",
           "#FF97FF",
           "#FECB52"
          ],
          "font": {
           "color": "#2a3f5f"
          },
          "hovermode": "closest",
          "hoverlabel": {
           "align": "left"
          },
          "paper_bgcolor": "white",
          "plot_bgcolor": "#E5ECF6",
          "polar": {
           "bgcolor": "#E5ECF6",
           "angularaxis": {
            "gridcolor": "white",
            "linecolor": "white",
            "ticks": ""
           },
           "radialaxis": {
            "gridcolor": "white",
            "linecolor": "white",
            "ticks": ""
           }
          },
          "ternary": {
           "bgcolor": "#E5ECF6",
           "aaxis": {
            "gridcolor": "white",
            "linecolor": "white",
            "ticks": ""
           },
           "baxis": {
            "gridcolor": "white",
            "linecolor": "white",
            "ticks": ""
           },
           "caxis": {
            "gridcolor": "white",
            "linecolor": "white",
            "ticks": ""
           }
          },
          "coloraxis": {
           "colorbar": {
            "outlinewidth": 0,
            "ticks": ""
           }
          },
          "colorscale": {
           "sequential": [
            [
             0.0,
             "#0d0887"
            ],
            [
             0.1111111111111111,
             "#46039f"
            ],
            [
             0.2222222222222222,
             "#7201a8"
            ],
            [
             0.3333333333333333,
             "#9c179e"
            ],
            [
             0.4444444444444444,
             "#bd3786"
            ],
            [
             0.5555555555555556,
             "#d8576b"
            ],
            [
             0.6666666666666666,
             "#ed7953"
            ],
            [
             0.7777777777777778,
             "#fb9f3a"
            ],
            [
             0.8888888888888888,
             "#fdca26"
            ],
            [
             1.0,
             "#f0f921"
            ]
           ],
           "sequentialminus": [
            [
             0.0,
             "#0d0887"
            ],
            [
             0.1111111111111111,
             "#46039f"
            ],
            [
             0.2222222222222222,
             "#7201a8"
            ],
            [
             0.3333333333333333,
             "#9c179e"
            ],
            [
             0.4444444444444444,
             "#bd3786"
            ],
            [
             0.5555555555555556,
             "#d8576b"
            ],
            [
             0.6666666666666666,
             "#ed7953"
            ],
            [
             0.7777777777777778,
             "#fb9f3a"
            ],
            [
             0.8888888888888888,
             "#fdca26"
            ],
            [
             1.0,
             "#f0f921"
            ]
           ],
           "diverging": [
            [
             0,
             "#8e0152"
            ],
            [
             0.1,
             "#c51b7d"
            ],
            [
             0.2,
             "#de77ae"
            ],
            [
             0.3,
             "#f1b6da"
            ],
            [
             0.4,
             "#fde0ef"
            ],
            [
             0.5,
             "#f7f7f7"
            ],
            [
             0.6,
             "#e6f5d0"
            ],
            [
             0.7,
             "#b8e186"
            ],
            [
             0.8,
             "#7fbc41"
            ],
            [
             0.9,
             "#4d9221"
            ],
            [
             1,
             "#276419"
            ]
           ]
          },
          "xaxis": {
           "gridcolor": "white",
           "linecolor": "white",
           "ticks": "",
           "title": {
            "standoff": 15
           },
           "zerolinecolor": "white",
           "automargin": true,
           "zerolinewidth": 2
          },
          "yaxis": {
           "gridcolor": "white",
           "linecolor": "white",
           "ticks": "",
           "title": {
            "standoff": 15
           },
           "zerolinecolor": "white",
           "automargin": true,
           "zerolinewidth": 2
          },
          "scene": {
           "xaxis": {
            "backgroundcolor": "#E5ECF6",
            "gridcolor": "white",
            "linecolor": "white",
            "showbackground": true,
            "ticks": "",
            "zerolinecolor": "white",
            "gridwidth": 2
           },
           "yaxis": {
            "backgroundcolor": "#E5ECF6",
            "gridcolor": "white",
            "linecolor": "white",
            "showbackground": true,
            "ticks": "",
            "zerolinecolor": "white",
            "gridwidth": 2
           },
           "zaxis": {
            "backgroundcolor": "#E5ECF6",
            "gridcolor": "white",
            "linecolor": "white",
            "showbackground": true,
            "ticks": "",
            "zerolinecolor": "white",
            "gridwidth": 2
           }
          },
          "shapedefaults": {
           "line": {
            "color": "#2a3f5f"
           }
          },
          "annotationdefaults": {
           "arrowcolor": "#2a3f5f",
           "arrowhead": 0,
           "arrowwidth": 1
          },
          "geo": {
           "bgcolor": "white",
           "landcolor": "#E5ECF6",
           "subunitcolor": "white",
           "showland": true,
           "showlakes": true,
           "lakecolor": "white"
          },
          "title": {
           "x": 0.05
          },
          "mapbox": {
           "style": "light"
          }
         }
        },
        "title": {
         "font": {
          "size": 20,
          "color": "black"
         },
         "x": 0.5,
         "y": 1,
         "text": "Attendance by home team"
        },
        "xaxis": {
         "title": {
          "font": {
           "size": 16,
           "color": "black"
          },
          "text": "Team"
         },
         "tickfont": {
          "size": 14
         },
         "tickangle": -45,
         "gridwidth": 2,
         "gridcolor": "ivory"
        },
        "yaxis": {
         "title": {
          "font": {
           "size": 16,
           "color": "black"
          },
          "text": "Attendance"
         },
         "tickfont": {
          "size": 14
         },
         "gridwidth": 2,
         "gridcolor": "ivory"
        },
        "margin": {
         "l": 0,
         "r": 0,
         "t": 20,
         "b": 0
        },
        "height": 700
       },
       "config": {
        "plotlyServerURL": "https://plot.ly"
       }
      },
      "text/html": [
       "<div>                            <div id=\"cfa9ff98-8706-42b3-83b2-bc91bd0ef17c\" class=\"plotly-graph-div\" style=\"height:700px; width:100%;\"></div>            <script type=\"text/javascript\">                require([\"plotly\"], function(Plotly) {                    window.PLOTLYENV=window.PLOTLYENV || {};                                    if (document.getElementById(\"cfa9ff98-8706-42b3-83b2-bc91bd0ef17c\")) {                    Plotly.newPlot(                        \"cfa9ff98-8706-42b3-83b2-bc91bd0ef17c\",                        [{\"marker\":{\"color\":[37144.355587808415,29029.30864197531,24632.20484848485,21569.05316973415,1614.2857142857142,24401.61450777202,500.0,250.0,16056.282401091405,2294.7368421052633,10557.020289855072,24823.19612794613,5381.25,19018.916926272068,22753.09300518135,18498.449961008577,1462.5,17652.289569278673,32355.59724238026,22862.12939958592,17063.77525773196,587.5,24567.82935518347,10317.592412451362,23275.12981199642,10271.098461538462,37177.36486053222,22283.913366336634,500.0,27628.2,22384.13995174078,19312.757605495583,18216.312302839116,12855.41426611797,2258.695652173913,30486.973520249223,28666.464362081253,20919.357695614788,3916.6666666666665,6913.352362204724,22339.775298391283,17050.19797349961,1033.3333333333333,25360.617030762372,8148.963414634146,24275.607472324722,27246.708146247594,4661.6858513189445,27335.677988073632,17657.07709090909,26763.63165201296,26778.90041685966,1217.857142857143,28304.76288659794,7852.1821946169775,8100.231622746186,1896.1538461538462,225.0],\"coloraxis\":\"coloraxis\",\"line\":{\"color\":\"rgb(0,0,0)\",\"width\":2}},\"x\":[\"ANA\",\"ARI\",\"ATL\",\"BAL\",\"BL1\",\"BOS\",\"BR1\",\"BR2\",\"BRO\",\"BS1\",\"BSN\",\"CAL\",\"CH1\",\"CHA\",\"CHN\",\"CIN\",\"CL1\",\"CLE\",\"COL\",\"DET\",\"FLO\",\"FW1\",\"HOU\",\"KC1\",\"KCA\",\"LAA\",\"LAN\",\"MIA\",\"MID\",\"MIL\",\"MIN\",\"MLN\",\"MON\",\"NY1\",\"NY2\",\"NYA\",\"NYN\",\"OAK\",\"PH1\",\"PHA\",\"PHI\",\"PIT\",\"RC1\",\"SDN\",\"SE1\",\"SEA\",\"SFN\",\"SLA\",\"SLN\",\"TBA\",\"TEX\",\"TOR\",\"TRO\",\"WAS\",\"WS1\",\"WS2\",\"WS3\",\"WS4\"],\"y\":[37144.355587808415,29029.30864197531,24632.20484848485,21569.05316973415,1614.2857142857142,24401.61450777202,500.0,250.0,16056.282401091405,2294.7368421052633,10557.020289855072,24823.19612794613,5381.25,19018.916926272068,22753.09300518135,18498.449961008577,1462.5,17652.289569278673,32355.59724238026,22862.12939958592,17063.77525773196,587.5,24567.82935518347,10317.592412451362,23275.12981199642,10271.098461538462,37177.36486053222,22283.913366336634,500.0,27628.2,22384.13995174078,19312.757605495583,18216.312302839116,12855.41426611797,2258.695652173913,30486.973520249223,28666.464362081253,20919.357695614788,3916.6666666666665,6913.352362204724,22339.775298391283,17050.19797349961,1033.3333333333333,25360.617030762372,8148.963414634146,24275.607472324722,27246.708146247594,4661.6858513189445,27335.677988073632,17657.07709090909,26763.63165201296,26778.90041685966,1217.857142857143,28304.76288659794,7852.1821946169775,8100.231622746186,1896.1538461538462,225.0],\"type\":\"bar\"}],                        {\"template\":{\"data\":{\"histogram2dcontour\":[{\"type\":\"histogram2dcontour\",\"colorbar\":{\"outlinewidth\":0,\"ticks\":\"\"},\"colorscale\":[[0.0,\"#0d0887\"],[0.1111111111111111,\"#46039f\"],[0.2222222222222222,\"#7201a8\"],[0.3333333333333333,\"#9c179e\"],[0.4444444444444444,\"#bd3786\"],[0.5555555555555556,\"#d8576b\"],[0.6666666666666666,\"#ed7953\"],[0.7777777777777778,\"#fb9f3a\"],[0.8888888888888888,\"#fdca26\"],[1.0,\"#f0f921\"]]}],\"choropleth\":[{\"type\":\"choropleth\",\"colorbar\":{\"outlinewidth\":0,\"ticks\":\"\"}}],\"histogram2d\":[{\"type\":\"histogram2d\",\"colorbar\":{\"outlinewidth\":0,\"ticks\":\"\"},\"colorscale\":[[0.0,\"#0d0887\"],[0.1111111111111111,\"#46039f\"],[0.2222222222222222,\"#7201a8\"],[0.3333333333333333,\"#9c179e\"],[0.4444444444444444,\"#bd3786\"],[0.5555555555555556,\"#d8576b\"],[0.6666666666666666,\"#ed7953\"],[0.7777777777777778,\"#fb9f3a\"],[0.8888888888888888,\"#fdca26\"],[1.0,\"#f0f921\"]]}],\"heatmap\":[{\"type\":\"heatmap\",\"colorbar\":{\"outlinewidth\":0,\"ticks\":\"\"},\"colorscale\":[[0.0,\"#0d0887\"],[0.1111111111111111,\"#46039f\"],[0.2222222222222222,\"#7201a8\"],[0.3333333333333333,\"#9c179e\"],[0.4444444444444444,\"#bd3786\"],[0.5555555555555556,\"#d8576b\"],[0.6666666666666666,\"#ed7953\"],[0.7777777777777778,\"#fb9f3a\"],[0.8888888888888888,\"#fdca26\"],[1.0,\"#f0f921\"]]}],\"heatmapgl\":[{\"type\":\"heatmapgl\",\"colorbar\":{\"outlinewidth\":0,\"ticks\":\"\"},\"colorscale\":[[0.0,\"#0d0887\"],[0.1111111111111111,\"#46039f\"],[0.2222222222222222,\"#7201a8\"],[0.3333333333333333,\"#9c179e\"],[0.4444444444444444,\"#bd3786\"],[0.5555555555555556,\"#d8576b\"],[0.6666666666666666,\"#ed7953\"],[0.7777777777777778,\"#fb9f3a\"],[0.8888888888888888,\"#fdca26\"],[1.0,\"#f0f921\"]]}],\"contourcarpet\":[{\"type\":\"contourcarpet\",\"colorbar\":{\"outlinewidth\":0,\"ticks\":\"\"}}],\"contour\":[{\"type\":\"contour\",\"colorbar\":{\"outlinewidth\":0,\"ticks\":\"\"},\"colorscale\":[[0.0,\"#0d0887\"],[0.1111111111111111,\"#46039f\"],[0.2222222222222222,\"#7201a8\"],[0.3333333333333333,\"#9c179e\"],[0.4444444444444444,\"#bd3786\"],[0.5555555555555556,\"#d8576b\"],[0.6666666666666666,\"#ed7953\"],[0.7777777777777778,\"#fb9f3a\"],[0.8888888888888888,\"#fdca26\"],[1.0,\"#f0f921\"]]}],\"surface\":[{\"type\":\"surface\",\"colorbar\":{\"outlinewidth\":0,\"ticks\":\"\"},\"colorscale\":[[0.0,\"#0d0887\"],[0.1111111111111111,\"#46039f\"],[0.2222222222222222,\"#7201a8\"],[0.3333333333333333,\"#9c179e\"],[0.4444444444444444,\"#bd3786\"],[0.5555555555555556,\"#d8576b\"],[0.6666666666666666,\"#ed7953\"],[0.7777777777777778,\"#fb9f3a\"],[0.8888888888888888,\"#fdca26\"],[1.0,\"#f0f921\"]]}],\"mesh3d\":[{\"type\":\"mesh3d\",\"colorbar\":{\"outlinewidth\":0,\"ticks\":\"\"}}],\"scatter\":[{\"fillpattern\":{\"fillmode\":\"overlay\",\"size\":10,\"solidity\":0.2},\"type\":\"scatter\"}],\"parcoords\":[{\"type\":\"parcoords\",\"line\":{\"colorbar\":{\"outlinewidth\":0,\"ticks\":\"\"}}}],\"scatterpolargl\":[{\"type\":\"scatterpolargl\",\"marker\":{\"colorbar\":{\"outlinewidth\":0,\"ticks\":\"\"}}}],\"bar\":[{\"error_x\":{\"color\":\"#2a3f5f\"},\"error_y\":{\"color\":\"#2a3f5f\"},\"marker\":{\"line\":{\"color\":\"#E5ECF6\",\"width\":0.5},\"pattern\":{\"fillmode\":\"overlay\",\"size\":10,\"solidity\":0.2}},\"type\":\"bar\"}],\"scattergeo\":[{\"type\":\"scattergeo\",\"marker\":{\"colorbar\":{\"outlinewidth\":0,\"ticks\":\"\"}}}],\"scatterpolar\":[{\"type\":\"scatterpolar\",\"marker\":{\"colorbar\":{\"outlinewidth\":0,\"ticks\":\"\"}}}],\"histogram\":[{\"marker\":{\"pattern\":{\"fillmode\":\"overlay\",\"size\":10,\"solidity\":0.2}},\"type\":\"histogram\"}],\"scattergl\":[{\"type\":\"scattergl\",\"marker\":{\"colorbar\":{\"outlinewidth\":0,\"ticks\":\"\"}}}],\"scatter3d\":[{\"type\":\"scatter3d\",\"line\":{\"colorbar\":{\"outlinewidth\":0,\"ticks\":\"\"}},\"marker\":{\"colorbar\":{\"outlinewidth\":0,\"ticks\":\"\"}}}],\"scattermapbox\":[{\"type\":\"scattermapbox\",\"marker\":{\"colorbar\":{\"outlinewidth\":0,\"ticks\":\"\"}}}],\"scatterternary\":[{\"type\":\"scatterternary\",\"marker\":{\"colorbar\":{\"outlinewidth\":0,\"ticks\":\"\"}}}],\"scattercarpet\":[{\"type\":\"scattercarpet\",\"marker\":{\"colorbar\":{\"outlinewidth\":0,\"ticks\":\"\"}}}],\"carpet\":[{\"aaxis\":{\"endlinecolor\":\"#2a3f5f\",\"gridcolor\":\"white\",\"linecolor\":\"white\",\"minorgridcolor\":\"white\",\"startlinecolor\":\"#2a3f5f\"},\"baxis\":{\"endlinecolor\":\"#2a3f5f\",\"gridcolor\":\"white\",\"linecolor\":\"white\",\"minorgridcolor\":\"white\",\"startlinecolor\":\"#2a3f5f\"},\"type\":\"carpet\"}],\"table\":[{\"cells\":{\"fill\":{\"color\":\"#EBF0F8\"},\"line\":{\"color\":\"white\"}},\"header\":{\"fill\":{\"color\":\"#C8D4E3\"},\"line\":{\"color\":\"white\"}},\"type\":\"table\"}],\"barpolar\":[{\"marker\":{\"line\":{\"color\":\"#E5ECF6\",\"width\":0.5},\"pattern\":{\"fillmode\":\"overlay\",\"size\":10,\"solidity\":0.2}},\"type\":\"barpolar\"}],\"pie\":[{\"automargin\":true,\"type\":\"pie\"}]},\"layout\":{\"autotypenumbers\":\"strict\",\"colorway\":[\"#636efa\",\"#EF553B\",\"#00cc96\",\"#ab63fa\",\"#FFA15A\",\"#19d3f3\",\"#FF6692\",\"#B6E880\",\"#FF97FF\",\"#FECB52\"],\"font\":{\"color\":\"#2a3f5f\"},\"hovermode\":\"closest\",\"hoverlabel\":{\"align\":\"left\"},\"paper_bgcolor\":\"white\",\"plot_bgcolor\":\"#E5ECF6\",\"polar\":{\"bgcolor\":\"#E5ECF6\",\"angularaxis\":{\"gridcolor\":\"white\",\"linecolor\":\"white\",\"ticks\":\"\"},\"radialaxis\":{\"gridcolor\":\"white\",\"linecolor\":\"white\",\"ticks\":\"\"}},\"ternary\":{\"bgcolor\":\"#E5ECF6\",\"aaxis\":{\"gridcolor\":\"white\",\"linecolor\":\"white\",\"ticks\":\"\"},\"baxis\":{\"gridcolor\":\"white\",\"linecolor\":\"white\",\"ticks\":\"\"},\"caxis\":{\"gridcolor\":\"white\",\"linecolor\":\"white\",\"ticks\":\"\"}},\"coloraxis\":{\"colorbar\":{\"outlinewidth\":0,\"ticks\":\"\"}},\"colorscale\":{\"sequential\":[[0.0,\"#0d0887\"],[0.1111111111111111,\"#46039f\"],[0.2222222222222222,\"#7201a8\"],[0.3333333333333333,\"#9c179e\"],[0.4444444444444444,\"#bd3786\"],[0.5555555555555556,\"#d8576b\"],[0.6666666666666666,\"#ed7953\"],[0.7777777777777778,\"#fb9f3a\"],[0.8888888888888888,\"#fdca26\"],[1.0,\"#f0f921\"]],\"sequentialminus\":[[0.0,\"#0d0887\"],[0.1111111111111111,\"#46039f\"],[0.2222222222222222,\"#7201a8\"],[0.3333333333333333,\"#9c179e\"],[0.4444444444444444,\"#bd3786\"],[0.5555555555555556,\"#d8576b\"],[0.6666666666666666,\"#ed7953\"],[0.7777777777777778,\"#fb9f3a\"],[0.8888888888888888,\"#fdca26\"],[1.0,\"#f0f921\"]],\"diverging\":[[0,\"#8e0152\"],[0.1,\"#c51b7d\"],[0.2,\"#de77ae\"],[0.3,\"#f1b6da\"],[0.4,\"#fde0ef\"],[0.5,\"#f7f7f7\"],[0.6,\"#e6f5d0\"],[0.7,\"#b8e186\"],[0.8,\"#7fbc41\"],[0.9,\"#4d9221\"],[1,\"#276419\"]]},\"xaxis\":{\"gridcolor\":\"white\",\"linecolor\":\"white\",\"ticks\":\"\",\"title\":{\"standoff\":15},\"zerolinecolor\":\"white\",\"automargin\":true,\"zerolinewidth\":2},\"yaxis\":{\"gridcolor\":\"white\",\"linecolor\":\"white\",\"ticks\":\"\",\"title\":{\"standoff\":15},\"zerolinecolor\":\"white\",\"automargin\":true,\"zerolinewidth\":2},\"scene\":{\"xaxis\":{\"backgroundcolor\":\"#E5ECF6\",\"gridcolor\":\"white\",\"linecolor\":\"white\",\"showbackground\":true,\"ticks\":\"\",\"zerolinecolor\":\"white\",\"gridwidth\":2},\"yaxis\":{\"backgroundcolor\":\"#E5ECF6\",\"gridcolor\":\"white\",\"linecolor\":\"white\",\"showbackground\":true,\"ticks\":\"\",\"zerolinecolor\":\"white\",\"gridwidth\":2},\"zaxis\":{\"backgroundcolor\":\"#E5ECF6\",\"gridcolor\":\"white\",\"linecolor\":\"white\",\"showbackground\":true,\"ticks\":\"\",\"zerolinecolor\":\"white\",\"gridwidth\":2}},\"shapedefaults\":{\"line\":{\"color\":\"#2a3f5f\"}},\"annotationdefaults\":{\"arrowcolor\":\"#2a3f5f\",\"arrowhead\":0,\"arrowwidth\":1},\"geo\":{\"bgcolor\":\"white\",\"landcolor\":\"#E5ECF6\",\"subunitcolor\":\"white\",\"showland\":true,\"showlakes\":true,\"lakecolor\":\"white\"},\"title\":{\"x\":0.05},\"mapbox\":{\"style\":\"light\"}}},\"title\":{\"font\":{\"size\":20,\"color\":\"black\"},\"x\":0.5,\"y\":1,\"text\":\"Attendance by home team\"},\"xaxis\":{\"title\":{\"font\":{\"size\":16,\"color\":\"black\"},\"text\":\"Team\"},\"tickfont\":{\"size\":14},\"tickangle\":-45,\"gridwidth\":2,\"gridcolor\":\"ivory\"},\"yaxis\":{\"title\":{\"font\":{\"size\":16,\"color\":\"black\"},\"text\":\"Attendance\"},\"tickfont\":{\"size\":14},\"gridwidth\":2,\"gridcolor\":\"ivory\"},\"margin\":{\"l\":0,\"r\":0,\"t\":20,\"b\":0},\"height\":700},                        {\"responsive\": true}                    ).then(function(){\n",
       "                            \n",
       "var gd = document.getElementById('cfa9ff98-8706-42b3-83b2-bc91bd0ef17c');\n",
       "var x = new MutationObserver(function (mutations, observer) {{\n",
       "        var display = window.getComputedStyle(gd).display;\n",
       "        if (!display || display === 'none') {{\n",
       "            console.log([gd, 'removed!']);\n",
       "            Plotly.purge(gd);\n",
       "            observer.disconnect();\n",
       "        }}\n",
       "}});\n",
       "\n",
       "// Listen for the removal of the full notebook cells\n",
       "var notebookContainer = gd.closest('#notebook-container');\n",
       "if (notebookContainer) {{\n",
       "    x.observe(notebookContainer, {childList: true});\n",
       "}}\n",
       "\n",
       "// Listen for the clearing of the current output cell\n",
       "var outputEl = gd.closest('.output');\n",
       "if (outputEl) {{\n",
       "    x.observe(outputEl, {childList: true});\n",
       "}}\n",
       "\n",
       "                        })                };                });            </script>        </div>"
      ]
     },
     "metadata": {},
     "output_type": "display_data"
    }
   ],
   "execution_count": 50
  },
  {
   "metadata": {},
   "cell_type": "markdown",
   "source": "# 4",
   "id": "adbaf733c7d9dc3a"
  },
  {
   "metadata": {
    "ExecuteTime": {
     "end_time": "2024-09-15T10:31:17.013953Z",
     "start_time": "2024-09-15T10:31:16.980773Z"
    }
   },
   "cell_type": "code",
   "source": [
    "def make_pie(attendance):\n",
    "    figure = go.Figure()\n",
    "    figure.add_trace(\n",
    "        go.Pie(\n",
    "            labels=attendance.keys(), values=attendance,\n",
    "        )\n",
    "    )\n",
    "    figure.update_traces(marker_line_color='rgb(0,0,0)', marker_line_width=2, textposition='inside')\n",
    "    figure.update_layout(\n",
    "        title=dict(\n",
    "            font=dict(size=20, color='black'),\n",
    "            x=0.5,\n",
    "            y=1,\n",
    "            text='Attendance by home team',\n",
    "        ),\n",
    "        xaxis_title=dict(text=\"Team\", font=dict(size=16, color='black')),\n",
    "        yaxis_title=dict(text=\"Attendance\", font=dict(size=16, color='black')),\n",
    "        height=700,\n",
    "        margin=dict(l=0, r=0, t=20, b=0),\n",
    "        uniformtext_minsize=12,\n",
    "        uniformtext_mode='hide'\n",
    "    )\n",
    "    figure.update_xaxes(tickangle=315, gridwidth=2, gridcolor='ivory', tickfont_size=14)\n",
    "    figure.update_yaxes(gridwidth=2, gridcolor='ivory', tickfont_size=14)\n",
    "    figure.show()\n",
    "    \n",
    "def prepare_data_for_pie(games_data):\n",
    "    min_attendance = games_data.sum() * 0.02\n",
    "    print(min_attendance)\n",
    "    prepared_data = pd.Series()\n",
    "    for (index, value) in games_data.items():\n",
    "        if value >= min_attendance:\n",
    "            print(pd.Series([value], index=[index]))\n",
    "            # prepared_data.add(pd.Series([value], index=[index]))\n",
    "    print(prepared_data)\n",
    "    return prepared_data\n",
    "\n",
    "make_pie(mean_attendance_by_home_team)"
   ],
   "id": "b69f6a2335ec4de7",
   "outputs": [
    {
     "data": {
      "application/vnd.plotly.v1+json": {
       "data": [
        {
         "labels": [
          "ANA",
          "ARI",
          "ATL",
          "BAL",
          "BL1",
          "BOS",
          "BR1",
          "BR2",
          "BRO",
          "BS1",
          "BSN",
          "CAL",
          "CH1",
          "CHA",
          "CHN",
          "CIN",
          "CL1",
          "CLE",
          "COL",
          "DET",
          "FLO",
          "FW1",
          "HOU",
          "KC1",
          "KCA",
          "LAA",
          "LAN",
          "MIA",
          "MID",
          "MIL",
          "MIN",
          "MLN",
          "MON",
          "NY1",
          "NY2",
          "NYA",
          "NYN",
          "OAK",
          "PH1",
          "PHA",
          "PHI",
          "PIT",
          "RC1",
          "SDN",
          "SE1",
          "SEA",
          "SFN",
          "SLA",
          "SLN",
          "TBA",
          "TEX",
          "TOR",
          "TRO",
          "WAS",
          "WS1",
          "WS2",
          "WS3",
          "WS4"
         ],
         "values": [
          37144.355587808415,
          29029.30864197531,
          24632.20484848485,
          21569.05316973415,
          1614.2857142857142,
          24401.61450777202,
          500.0,
          250.0,
          16056.282401091405,
          2294.7368421052633,
          10557.020289855072,
          24823.19612794613,
          5381.25,
          19018.916926272068,
          22753.09300518135,
          18498.449961008577,
          1462.5,
          17652.289569278673,
          32355.59724238026,
          22862.12939958592,
          17063.77525773196,
          587.5,
          24567.82935518347,
          10317.592412451362,
          23275.12981199642,
          10271.098461538462,
          37177.36486053222,
          22283.913366336634,
          500.0,
          27628.2,
          22384.13995174078,
          19312.757605495583,
          18216.312302839116,
          12855.41426611797,
          2258.695652173913,
          30486.973520249223,
          28666.464362081253,
          20919.357695614788,
          3916.6666666666665,
          6913.352362204724,
          22339.775298391283,
          17050.19797349961,
          1033.3333333333333,
          25360.617030762372,
          8148.963414634146,
          24275.607472324722,
          27246.708146247594,
          4661.6858513189445,
          27335.677988073632,
          17657.07709090909,
          26763.63165201296,
          26778.90041685966,
          1217.857142857143,
          28304.76288659794,
          7852.1821946169775,
          8100.231622746186,
          1896.1538461538462,
          225.0
         ],
         "type": "pie",
         "marker": {
          "line": {
           "color": "rgb(0,0,0)",
           "width": 2
          }
         },
         "textposition": "inside"
        }
       ],
       "layout": {
        "template": {
         "data": {
          "histogram2dcontour": [
           {
            "type": "histogram2dcontour",
            "colorbar": {
             "outlinewidth": 0,
             "ticks": ""
            },
            "colorscale": [
             [
              0.0,
              "#0d0887"
             ],
             [
              0.1111111111111111,
              "#46039f"
             ],
             [
              0.2222222222222222,
              "#7201a8"
             ],
             [
              0.3333333333333333,
              "#9c179e"
             ],
             [
              0.4444444444444444,
              "#bd3786"
             ],
             [
              0.5555555555555556,
              "#d8576b"
             ],
             [
              0.6666666666666666,
              "#ed7953"
             ],
             [
              0.7777777777777778,
              "#fb9f3a"
             ],
             [
              0.8888888888888888,
              "#fdca26"
             ],
             [
              1.0,
              "#f0f921"
             ]
            ]
           }
          ],
          "choropleth": [
           {
            "type": "choropleth",
            "colorbar": {
             "outlinewidth": 0,
             "ticks": ""
            }
           }
          ],
          "histogram2d": [
           {
            "type": "histogram2d",
            "colorbar": {
             "outlinewidth": 0,
             "ticks": ""
            },
            "colorscale": [
             [
              0.0,
              "#0d0887"
             ],
             [
              0.1111111111111111,
              "#46039f"
             ],
             [
              0.2222222222222222,
              "#7201a8"
             ],
             [
              0.3333333333333333,
              "#9c179e"
             ],
             [
              0.4444444444444444,
              "#bd3786"
             ],
             [
              0.5555555555555556,
              "#d8576b"
             ],
             [
              0.6666666666666666,
              "#ed7953"
             ],
             [
              0.7777777777777778,
              "#fb9f3a"
             ],
             [
              0.8888888888888888,
              "#fdca26"
             ],
             [
              1.0,
              "#f0f921"
             ]
            ]
           }
          ],
          "heatmap": [
           {
            "type": "heatmap",
            "colorbar": {
             "outlinewidth": 0,
             "ticks": ""
            },
            "colorscale": [
             [
              0.0,
              "#0d0887"
             ],
             [
              0.1111111111111111,
              "#46039f"
             ],
             [
              0.2222222222222222,
              "#7201a8"
             ],
             [
              0.3333333333333333,
              "#9c179e"
             ],
             [
              0.4444444444444444,
              "#bd3786"
             ],
             [
              0.5555555555555556,
              "#d8576b"
             ],
             [
              0.6666666666666666,
              "#ed7953"
             ],
             [
              0.7777777777777778,
              "#fb9f3a"
             ],
             [
              0.8888888888888888,
              "#fdca26"
             ],
             [
              1.0,
              "#f0f921"
             ]
            ]
           }
          ],
          "heatmapgl": [
           {
            "type": "heatmapgl",
            "colorbar": {
             "outlinewidth": 0,
             "ticks": ""
            },
            "colorscale": [
             [
              0.0,
              "#0d0887"
             ],
             [
              0.1111111111111111,
              "#46039f"
             ],
             [
              0.2222222222222222,
              "#7201a8"
             ],
             [
              0.3333333333333333,
              "#9c179e"
             ],
             [
              0.4444444444444444,
              "#bd3786"
             ],
             [
              0.5555555555555556,
              "#d8576b"
             ],
             [
              0.6666666666666666,
              "#ed7953"
             ],
             [
              0.7777777777777778,
              "#fb9f3a"
             ],
             [
              0.8888888888888888,
              "#fdca26"
             ],
             [
              1.0,
              "#f0f921"
             ]
            ]
           }
          ],
          "contourcarpet": [
           {
            "type": "contourcarpet",
            "colorbar": {
             "outlinewidth": 0,
             "ticks": ""
            }
           }
          ],
          "contour": [
           {
            "type": "contour",
            "colorbar": {
             "outlinewidth": 0,
             "ticks": ""
            },
            "colorscale": [
             [
              0.0,
              "#0d0887"
             ],
             [
              0.1111111111111111,
              "#46039f"
             ],
             [
              0.2222222222222222,
              "#7201a8"
             ],
             [
              0.3333333333333333,
              "#9c179e"
             ],
             [
              0.4444444444444444,
              "#bd3786"
             ],
             [
              0.5555555555555556,
              "#d8576b"
             ],
             [
              0.6666666666666666,
              "#ed7953"
             ],
             [
              0.7777777777777778,
              "#fb9f3a"
             ],
             [
              0.8888888888888888,
              "#fdca26"
             ],
             [
              1.0,
              "#f0f921"
             ]
            ]
           }
          ],
          "surface": [
           {
            "type": "surface",
            "colorbar": {
             "outlinewidth": 0,
             "ticks": ""
            },
            "colorscale": [
             [
              0.0,
              "#0d0887"
             ],
             [
              0.1111111111111111,
              "#46039f"
             ],
             [
              0.2222222222222222,
              "#7201a8"
             ],
             [
              0.3333333333333333,
              "#9c179e"
             ],
             [
              0.4444444444444444,
              "#bd3786"
             ],
             [
              0.5555555555555556,
              "#d8576b"
             ],
             [
              0.6666666666666666,
              "#ed7953"
             ],
             [
              0.7777777777777778,
              "#fb9f3a"
             ],
             [
              0.8888888888888888,
              "#fdca26"
             ],
             [
              1.0,
              "#f0f921"
             ]
            ]
           }
          ],
          "mesh3d": [
           {
            "type": "mesh3d",
            "colorbar": {
             "outlinewidth": 0,
             "ticks": ""
            }
           }
          ],
          "scatter": [
           {
            "fillpattern": {
             "fillmode": "overlay",
             "size": 10,
             "solidity": 0.2
            },
            "type": "scatter"
           }
          ],
          "parcoords": [
           {
            "type": "parcoords",
            "line": {
             "colorbar": {
              "outlinewidth": 0,
              "ticks": ""
             }
            }
           }
          ],
          "scatterpolargl": [
           {
            "type": "scatterpolargl",
            "marker": {
             "colorbar": {
              "outlinewidth": 0,
              "ticks": ""
             }
            }
           }
          ],
          "bar": [
           {
            "error_x": {
             "color": "#2a3f5f"
            },
            "error_y": {
             "color": "#2a3f5f"
            },
            "marker": {
             "line": {
              "color": "#E5ECF6",
              "width": 0.5
             },
             "pattern": {
              "fillmode": "overlay",
              "size": 10,
              "solidity": 0.2
             }
            },
            "type": "bar"
           }
          ],
          "scattergeo": [
           {
            "type": "scattergeo",
            "marker": {
             "colorbar": {
              "outlinewidth": 0,
              "ticks": ""
             }
            }
           }
          ],
          "scatterpolar": [
           {
            "type": "scatterpolar",
            "marker": {
             "colorbar": {
              "outlinewidth": 0,
              "ticks": ""
             }
            }
           }
          ],
          "histogram": [
           {
            "marker": {
             "pattern": {
              "fillmode": "overlay",
              "size": 10,
              "solidity": 0.2
             }
            },
            "type": "histogram"
           }
          ],
          "scattergl": [
           {
            "type": "scattergl",
            "marker": {
             "colorbar": {
              "outlinewidth": 0,
              "ticks": ""
             }
            }
           }
          ],
          "scatter3d": [
           {
            "type": "scatter3d",
            "line": {
             "colorbar": {
              "outlinewidth": 0,
              "ticks": ""
             }
            },
            "marker": {
             "colorbar": {
              "outlinewidth": 0,
              "ticks": ""
             }
            }
           }
          ],
          "scattermapbox": [
           {
            "type": "scattermapbox",
            "marker": {
             "colorbar": {
              "outlinewidth": 0,
              "ticks": ""
             }
            }
           }
          ],
          "scatterternary": [
           {
            "type": "scatterternary",
            "marker": {
             "colorbar": {
              "outlinewidth": 0,
              "ticks": ""
             }
            }
           }
          ],
          "scattercarpet": [
           {
            "type": "scattercarpet",
            "marker": {
             "colorbar": {
              "outlinewidth": 0,
              "ticks": ""
             }
            }
           }
          ],
          "carpet": [
           {
            "aaxis": {
             "endlinecolor": "#2a3f5f",
             "gridcolor": "white",
             "linecolor": "white",
             "minorgridcolor": "white",
             "startlinecolor": "#2a3f5f"
            },
            "baxis": {
             "endlinecolor": "#2a3f5f",
             "gridcolor": "white",
             "linecolor": "white",
             "minorgridcolor": "white",
             "startlinecolor": "#2a3f5f"
            },
            "type": "carpet"
           }
          ],
          "table": [
           {
            "cells": {
             "fill": {
              "color": "#EBF0F8"
             },
             "line": {
              "color": "white"
             }
            },
            "header": {
             "fill": {
              "color": "#C8D4E3"
             },
             "line": {
              "color": "white"
             }
            },
            "type": "table"
           }
          ],
          "barpolar": [
           {
            "marker": {
             "line": {
              "color": "#E5ECF6",
              "width": 0.5
             },
             "pattern": {
              "fillmode": "overlay",
              "size": 10,
              "solidity": 0.2
             }
            },
            "type": "barpolar"
           }
          ],
          "pie": [
           {
            "automargin": true,
            "type": "pie"
           }
          ]
         },
         "layout": {
          "autotypenumbers": "strict",
          "colorway": [
           "#636efa",
           "#EF553B",
           "#00cc96",
           "#ab63fa",
           "#FFA15A",
           "#19d3f3",
           "#FF6692",
           "#B6E880",
           "#FF97FF",
           "#FECB52"
          ],
          "font": {
           "color": "#2a3f5f"
          },
          "hovermode": "closest",
          "hoverlabel": {
           "align": "left"
          },
          "paper_bgcolor": "white",
          "plot_bgcolor": "#E5ECF6",
          "polar": {
           "bgcolor": "#E5ECF6",
           "angularaxis": {
            "gridcolor": "white",
            "linecolor": "white",
            "ticks": ""
           },
           "radialaxis": {
            "gridcolor": "white",
            "linecolor": "white",
            "ticks": ""
           }
          },
          "ternary": {
           "bgcolor": "#E5ECF6",
           "aaxis": {
            "gridcolor": "white",
            "linecolor": "white",
            "ticks": ""
           },
           "baxis": {
            "gridcolor": "white",
            "linecolor": "white",
            "ticks": ""
           },
           "caxis": {
            "gridcolor": "white",
            "linecolor": "white",
            "ticks": ""
           }
          },
          "coloraxis": {
           "colorbar": {
            "outlinewidth": 0,
            "ticks": ""
           }
          },
          "colorscale": {
           "sequential": [
            [
             0.0,
             "#0d0887"
            ],
            [
             0.1111111111111111,
             "#46039f"
            ],
            [
             0.2222222222222222,
             "#7201a8"
            ],
            [
             0.3333333333333333,
             "#9c179e"
            ],
            [
             0.4444444444444444,
             "#bd3786"
            ],
            [
             0.5555555555555556,
             "#d8576b"
            ],
            [
             0.6666666666666666,
             "#ed7953"
            ],
            [
             0.7777777777777778,
             "#fb9f3a"
            ],
            [
             0.8888888888888888,
             "#fdca26"
            ],
            [
             1.0,
             "#f0f921"
            ]
           ],
           "sequentialminus": [
            [
             0.0,
             "#0d0887"
            ],
            [
             0.1111111111111111,
             "#46039f"
            ],
            [
             0.2222222222222222,
             "#7201a8"
            ],
            [
             0.3333333333333333,
             "#9c179e"
            ],
            [
             0.4444444444444444,
             "#bd3786"
            ],
            [
             0.5555555555555556,
             "#d8576b"
            ],
            [
             0.6666666666666666,
             "#ed7953"
            ],
            [
             0.7777777777777778,
             "#fb9f3a"
            ],
            [
             0.8888888888888888,
             "#fdca26"
            ],
            [
             1.0,
             "#f0f921"
            ]
           ],
           "diverging": [
            [
             0,
             "#8e0152"
            ],
            [
             0.1,
             "#c51b7d"
            ],
            [
             0.2,
             "#de77ae"
            ],
            [
             0.3,
             "#f1b6da"
            ],
            [
             0.4,
             "#fde0ef"
            ],
            [
             0.5,
             "#f7f7f7"
            ],
            [
             0.6,
             "#e6f5d0"
            ],
            [
             0.7,
             "#b8e186"
            ],
            [
             0.8,
             "#7fbc41"
            ],
            [
             0.9,
             "#4d9221"
            ],
            [
             1,
             "#276419"
            ]
           ]
          },
          "xaxis": {
           "gridcolor": "white",
           "linecolor": "white",
           "ticks": "",
           "title": {
            "standoff": 15
           },
           "zerolinecolor": "white",
           "automargin": true,
           "zerolinewidth": 2
          },
          "yaxis": {
           "gridcolor": "white",
           "linecolor": "white",
           "ticks": "",
           "title": {
            "standoff": 15
           },
           "zerolinecolor": "white",
           "automargin": true,
           "zerolinewidth": 2
          },
          "scene": {
           "xaxis": {
            "backgroundcolor": "#E5ECF6",
            "gridcolor": "white",
            "linecolor": "white",
            "showbackground": true,
            "ticks": "",
            "zerolinecolor": "white",
            "gridwidth": 2
           },
           "yaxis": {
            "backgroundcolor": "#E5ECF6",
            "gridcolor": "white",
            "linecolor": "white",
            "showbackground": true,
            "ticks": "",
            "zerolinecolor": "white",
            "gridwidth": 2
           },
           "zaxis": {
            "backgroundcolor": "#E5ECF6",
            "gridcolor": "white",
            "linecolor": "white",
            "showbackground": true,
            "ticks": "",
            "zerolinecolor": "white",
            "gridwidth": 2
           }
          },
          "shapedefaults": {
           "line": {
            "color": "#2a3f5f"
           }
          },
          "annotationdefaults": {
           "arrowcolor": "#2a3f5f",
           "arrowhead": 0,
           "arrowwidth": 1
          },
          "geo": {
           "bgcolor": "white",
           "landcolor": "#E5ECF6",
           "subunitcolor": "white",
           "showland": true,
           "showlakes": true,
           "lakecolor": "white"
          },
          "title": {
           "x": 0.05
          },
          "mapbox": {
           "style": "light"
          }
         }
        },
        "title": {
         "font": {
          "size": 20,
          "color": "black"
         },
         "x": 0.5,
         "y": 1,
         "text": "Attendance by home team"
        },
        "xaxis": {
         "title": {
          "font": {
           "size": 16,
           "color": "black"
          },
          "text": "Team"
         },
         "tickfont": {
          "size": 14
         },
         "tickangle": -45,
         "gridwidth": 2,
         "gridcolor": "ivory"
        },
        "yaxis": {
         "title": {
          "font": {
           "size": 16,
           "color": "black"
          },
          "text": "Attendance"
         },
         "tickfont": {
          "size": 14
         },
         "gridwidth": 2,
         "gridcolor": "ivory"
        },
        "margin": {
         "l": 0,
         "r": 0,
         "t": 20,
         "b": 0
        },
        "uniformtext": {
         "minsize": 12,
         "mode": "hide"
        },
        "height": 700
       },
       "config": {
        "plotlyServerURL": "https://plot.ly"
       }
      },
      "text/html": [
       "<div>                            <div id=\"a23c578a-7ab8-41fe-a3ee-fa5a0a8b34e8\" class=\"plotly-graph-div\" style=\"height:700px; width:100%;\"></div>            <script type=\"text/javascript\">                require([\"plotly\"], function(Plotly) {                    window.PLOTLYENV=window.PLOTLYENV || {};                                    if (document.getElementById(\"a23c578a-7ab8-41fe-a3ee-fa5a0a8b34e8\")) {                    Plotly.newPlot(                        \"a23c578a-7ab8-41fe-a3ee-fa5a0a8b34e8\",                        [{\"labels\":[\"ANA\",\"ARI\",\"ATL\",\"BAL\",\"BL1\",\"BOS\",\"BR1\",\"BR2\",\"BRO\",\"BS1\",\"BSN\",\"CAL\",\"CH1\",\"CHA\",\"CHN\",\"CIN\",\"CL1\",\"CLE\",\"COL\",\"DET\",\"FLO\",\"FW1\",\"HOU\",\"KC1\",\"KCA\",\"LAA\",\"LAN\",\"MIA\",\"MID\",\"MIL\",\"MIN\",\"MLN\",\"MON\",\"NY1\",\"NY2\",\"NYA\",\"NYN\",\"OAK\",\"PH1\",\"PHA\",\"PHI\",\"PIT\",\"RC1\",\"SDN\",\"SE1\",\"SEA\",\"SFN\",\"SLA\",\"SLN\",\"TBA\",\"TEX\",\"TOR\",\"TRO\",\"WAS\",\"WS1\",\"WS2\",\"WS3\",\"WS4\"],\"values\":[37144.355587808415,29029.30864197531,24632.20484848485,21569.05316973415,1614.2857142857142,24401.61450777202,500.0,250.0,16056.282401091405,2294.7368421052633,10557.020289855072,24823.19612794613,5381.25,19018.916926272068,22753.09300518135,18498.449961008577,1462.5,17652.289569278673,32355.59724238026,22862.12939958592,17063.77525773196,587.5,24567.82935518347,10317.592412451362,23275.12981199642,10271.098461538462,37177.36486053222,22283.913366336634,500.0,27628.2,22384.13995174078,19312.757605495583,18216.312302839116,12855.41426611797,2258.695652173913,30486.973520249223,28666.464362081253,20919.357695614788,3916.6666666666665,6913.352362204724,22339.775298391283,17050.19797349961,1033.3333333333333,25360.617030762372,8148.963414634146,24275.607472324722,27246.708146247594,4661.6858513189445,27335.677988073632,17657.07709090909,26763.63165201296,26778.90041685966,1217.857142857143,28304.76288659794,7852.1821946169775,8100.231622746186,1896.1538461538462,225.0],\"type\":\"pie\",\"marker\":{\"line\":{\"color\":\"rgb(0,0,0)\",\"width\":2}},\"textposition\":\"inside\"}],                        {\"template\":{\"data\":{\"histogram2dcontour\":[{\"type\":\"histogram2dcontour\",\"colorbar\":{\"outlinewidth\":0,\"ticks\":\"\"},\"colorscale\":[[0.0,\"#0d0887\"],[0.1111111111111111,\"#46039f\"],[0.2222222222222222,\"#7201a8\"],[0.3333333333333333,\"#9c179e\"],[0.4444444444444444,\"#bd3786\"],[0.5555555555555556,\"#d8576b\"],[0.6666666666666666,\"#ed7953\"],[0.7777777777777778,\"#fb9f3a\"],[0.8888888888888888,\"#fdca26\"],[1.0,\"#f0f921\"]]}],\"choropleth\":[{\"type\":\"choropleth\",\"colorbar\":{\"outlinewidth\":0,\"ticks\":\"\"}}],\"histogram2d\":[{\"type\":\"histogram2d\",\"colorbar\":{\"outlinewidth\":0,\"ticks\":\"\"},\"colorscale\":[[0.0,\"#0d0887\"],[0.1111111111111111,\"#46039f\"],[0.2222222222222222,\"#7201a8\"],[0.3333333333333333,\"#9c179e\"],[0.4444444444444444,\"#bd3786\"],[0.5555555555555556,\"#d8576b\"],[0.6666666666666666,\"#ed7953\"],[0.7777777777777778,\"#fb9f3a\"],[0.8888888888888888,\"#fdca26\"],[1.0,\"#f0f921\"]]}],\"heatmap\":[{\"type\":\"heatmap\",\"colorbar\":{\"outlinewidth\":0,\"ticks\":\"\"},\"colorscale\":[[0.0,\"#0d0887\"],[0.1111111111111111,\"#46039f\"],[0.2222222222222222,\"#7201a8\"],[0.3333333333333333,\"#9c179e\"],[0.4444444444444444,\"#bd3786\"],[0.5555555555555556,\"#d8576b\"],[0.6666666666666666,\"#ed7953\"],[0.7777777777777778,\"#fb9f3a\"],[0.8888888888888888,\"#fdca26\"],[1.0,\"#f0f921\"]]}],\"heatmapgl\":[{\"type\":\"heatmapgl\",\"colorbar\":{\"outlinewidth\":0,\"ticks\":\"\"},\"colorscale\":[[0.0,\"#0d0887\"],[0.1111111111111111,\"#46039f\"],[0.2222222222222222,\"#7201a8\"],[0.3333333333333333,\"#9c179e\"],[0.4444444444444444,\"#bd3786\"],[0.5555555555555556,\"#d8576b\"],[0.6666666666666666,\"#ed7953\"],[0.7777777777777778,\"#fb9f3a\"],[0.8888888888888888,\"#fdca26\"],[1.0,\"#f0f921\"]]}],\"contourcarpet\":[{\"type\":\"contourcarpet\",\"colorbar\":{\"outlinewidth\":0,\"ticks\":\"\"}}],\"contour\":[{\"type\":\"contour\",\"colorbar\":{\"outlinewidth\":0,\"ticks\":\"\"},\"colorscale\":[[0.0,\"#0d0887\"],[0.1111111111111111,\"#46039f\"],[0.2222222222222222,\"#7201a8\"],[0.3333333333333333,\"#9c179e\"],[0.4444444444444444,\"#bd3786\"],[0.5555555555555556,\"#d8576b\"],[0.6666666666666666,\"#ed7953\"],[0.7777777777777778,\"#fb9f3a\"],[0.8888888888888888,\"#fdca26\"],[1.0,\"#f0f921\"]]}],\"surface\":[{\"type\":\"surface\",\"colorbar\":{\"outlinewidth\":0,\"ticks\":\"\"},\"colorscale\":[[0.0,\"#0d0887\"],[0.1111111111111111,\"#46039f\"],[0.2222222222222222,\"#7201a8\"],[0.3333333333333333,\"#9c179e\"],[0.4444444444444444,\"#bd3786\"],[0.5555555555555556,\"#d8576b\"],[0.6666666666666666,\"#ed7953\"],[0.7777777777777778,\"#fb9f3a\"],[0.8888888888888888,\"#fdca26\"],[1.0,\"#f0f921\"]]}],\"mesh3d\":[{\"type\":\"mesh3d\",\"colorbar\":{\"outlinewidth\":0,\"ticks\":\"\"}}],\"scatter\":[{\"fillpattern\":{\"fillmode\":\"overlay\",\"size\":10,\"solidity\":0.2},\"type\":\"scatter\"}],\"parcoords\":[{\"type\":\"parcoords\",\"line\":{\"colorbar\":{\"outlinewidth\":0,\"ticks\":\"\"}}}],\"scatterpolargl\":[{\"type\":\"scatterpolargl\",\"marker\":{\"colorbar\":{\"outlinewidth\":0,\"ticks\":\"\"}}}],\"bar\":[{\"error_x\":{\"color\":\"#2a3f5f\"},\"error_y\":{\"color\":\"#2a3f5f\"},\"marker\":{\"line\":{\"color\":\"#E5ECF6\",\"width\":0.5},\"pattern\":{\"fillmode\":\"overlay\",\"size\":10,\"solidity\":0.2}},\"type\":\"bar\"}],\"scattergeo\":[{\"type\":\"scattergeo\",\"marker\":{\"colorbar\":{\"outlinewidth\":0,\"ticks\":\"\"}}}],\"scatterpolar\":[{\"type\":\"scatterpolar\",\"marker\":{\"colorbar\":{\"outlinewidth\":0,\"ticks\":\"\"}}}],\"histogram\":[{\"marker\":{\"pattern\":{\"fillmode\":\"overlay\",\"size\":10,\"solidity\":0.2}},\"type\":\"histogram\"}],\"scattergl\":[{\"type\":\"scattergl\",\"marker\":{\"colorbar\":{\"outlinewidth\":0,\"ticks\":\"\"}}}],\"scatter3d\":[{\"type\":\"scatter3d\",\"line\":{\"colorbar\":{\"outlinewidth\":0,\"ticks\":\"\"}},\"marker\":{\"colorbar\":{\"outlinewidth\":0,\"ticks\":\"\"}}}],\"scattermapbox\":[{\"type\":\"scattermapbox\",\"marker\":{\"colorbar\":{\"outlinewidth\":0,\"ticks\":\"\"}}}],\"scatterternary\":[{\"type\":\"scatterternary\",\"marker\":{\"colorbar\":{\"outlinewidth\":0,\"ticks\":\"\"}}}],\"scattercarpet\":[{\"type\":\"scattercarpet\",\"marker\":{\"colorbar\":{\"outlinewidth\":0,\"ticks\":\"\"}}}],\"carpet\":[{\"aaxis\":{\"endlinecolor\":\"#2a3f5f\",\"gridcolor\":\"white\",\"linecolor\":\"white\",\"minorgridcolor\":\"white\",\"startlinecolor\":\"#2a3f5f\"},\"baxis\":{\"endlinecolor\":\"#2a3f5f\",\"gridcolor\":\"white\",\"linecolor\":\"white\",\"minorgridcolor\":\"white\",\"startlinecolor\":\"#2a3f5f\"},\"type\":\"carpet\"}],\"table\":[{\"cells\":{\"fill\":{\"color\":\"#EBF0F8\"},\"line\":{\"color\":\"white\"}},\"header\":{\"fill\":{\"color\":\"#C8D4E3\"},\"line\":{\"color\":\"white\"}},\"type\":\"table\"}],\"barpolar\":[{\"marker\":{\"line\":{\"color\":\"#E5ECF6\",\"width\":0.5},\"pattern\":{\"fillmode\":\"overlay\",\"size\":10,\"solidity\":0.2}},\"type\":\"barpolar\"}],\"pie\":[{\"automargin\":true,\"type\":\"pie\"}]},\"layout\":{\"autotypenumbers\":\"strict\",\"colorway\":[\"#636efa\",\"#EF553B\",\"#00cc96\",\"#ab63fa\",\"#FFA15A\",\"#19d3f3\",\"#FF6692\",\"#B6E880\",\"#FF97FF\",\"#FECB52\"],\"font\":{\"color\":\"#2a3f5f\"},\"hovermode\":\"closest\",\"hoverlabel\":{\"align\":\"left\"},\"paper_bgcolor\":\"white\",\"plot_bgcolor\":\"#E5ECF6\",\"polar\":{\"bgcolor\":\"#E5ECF6\",\"angularaxis\":{\"gridcolor\":\"white\",\"linecolor\":\"white\",\"ticks\":\"\"},\"radialaxis\":{\"gridcolor\":\"white\",\"linecolor\":\"white\",\"ticks\":\"\"}},\"ternary\":{\"bgcolor\":\"#E5ECF6\",\"aaxis\":{\"gridcolor\":\"white\",\"linecolor\":\"white\",\"ticks\":\"\"},\"baxis\":{\"gridcolor\":\"white\",\"linecolor\":\"white\",\"ticks\":\"\"},\"caxis\":{\"gridcolor\":\"white\",\"linecolor\":\"white\",\"ticks\":\"\"}},\"coloraxis\":{\"colorbar\":{\"outlinewidth\":0,\"ticks\":\"\"}},\"colorscale\":{\"sequential\":[[0.0,\"#0d0887\"],[0.1111111111111111,\"#46039f\"],[0.2222222222222222,\"#7201a8\"],[0.3333333333333333,\"#9c179e\"],[0.4444444444444444,\"#bd3786\"],[0.5555555555555556,\"#d8576b\"],[0.6666666666666666,\"#ed7953\"],[0.7777777777777778,\"#fb9f3a\"],[0.8888888888888888,\"#fdca26\"],[1.0,\"#f0f921\"]],\"sequentialminus\":[[0.0,\"#0d0887\"],[0.1111111111111111,\"#46039f\"],[0.2222222222222222,\"#7201a8\"],[0.3333333333333333,\"#9c179e\"],[0.4444444444444444,\"#bd3786\"],[0.5555555555555556,\"#d8576b\"],[0.6666666666666666,\"#ed7953\"],[0.7777777777777778,\"#fb9f3a\"],[0.8888888888888888,\"#fdca26\"],[1.0,\"#f0f921\"]],\"diverging\":[[0,\"#8e0152\"],[0.1,\"#c51b7d\"],[0.2,\"#de77ae\"],[0.3,\"#f1b6da\"],[0.4,\"#fde0ef\"],[0.5,\"#f7f7f7\"],[0.6,\"#e6f5d0\"],[0.7,\"#b8e186\"],[0.8,\"#7fbc41\"],[0.9,\"#4d9221\"],[1,\"#276419\"]]},\"xaxis\":{\"gridcolor\":\"white\",\"linecolor\":\"white\",\"ticks\":\"\",\"title\":{\"standoff\":15},\"zerolinecolor\":\"white\",\"automargin\":true,\"zerolinewidth\":2},\"yaxis\":{\"gridcolor\":\"white\",\"linecolor\":\"white\",\"ticks\":\"\",\"title\":{\"standoff\":15},\"zerolinecolor\":\"white\",\"automargin\":true,\"zerolinewidth\":2},\"scene\":{\"xaxis\":{\"backgroundcolor\":\"#E5ECF6\",\"gridcolor\":\"white\",\"linecolor\":\"white\",\"showbackground\":true,\"ticks\":\"\",\"zerolinecolor\":\"white\",\"gridwidth\":2},\"yaxis\":{\"backgroundcolor\":\"#E5ECF6\",\"gridcolor\":\"white\",\"linecolor\":\"white\",\"showbackground\":true,\"ticks\":\"\",\"zerolinecolor\":\"white\",\"gridwidth\":2},\"zaxis\":{\"backgroundcolor\":\"#E5ECF6\",\"gridcolor\":\"white\",\"linecolor\":\"white\",\"showbackground\":true,\"ticks\":\"\",\"zerolinecolor\":\"white\",\"gridwidth\":2}},\"shapedefaults\":{\"line\":{\"color\":\"#2a3f5f\"}},\"annotationdefaults\":{\"arrowcolor\":\"#2a3f5f\",\"arrowhead\":0,\"arrowwidth\":1},\"geo\":{\"bgcolor\":\"white\",\"landcolor\":\"#E5ECF6\",\"subunitcolor\":\"white\",\"showland\":true,\"showlakes\":true,\"lakecolor\":\"white\"},\"title\":{\"x\":0.05},\"mapbox\":{\"style\":\"light\"}}},\"title\":{\"font\":{\"size\":20,\"color\":\"black\"},\"x\":0.5,\"y\":1,\"text\":\"Attendance by home team\"},\"xaxis\":{\"title\":{\"font\":{\"size\":16,\"color\":\"black\"},\"text\":\"Team\"},\"tickfont\":{\"size\":14},\"tickangle\":-45,\"gridwidth\":2,\"gridcolor\":\"ivory\"},\"yaxis\":{\"title\":{\"font\":{\"size\":16,\"color\":\"black\"},\"text\":\"Attendance\"},\"tickfont\":{\"size\":14},\"gridwidth\":2,\"gridcolor\":\"ivory\"},\"margin\":{\"l\":0,\"r\":0,\"t\":20,\"b\":0},\"uniformtext\":{\"minsize\":12,\"mode\":\"hide\"},\"height\":700},                        {\"responsive\": true}                    ).then(function(){\n",
       "                            \n",
       "var gd = document.getElementById('a23c578a-7ab8-41fe-a3ee-fa5a0a8b34e8');\n",
       "var x = new MutationObserver(function (mutations, observer) {{\n",
       "        var display = window.getComputedStyle(gd).display;\n",
       "        if (!display || display === 'none') {{\n",
       "            console.log([gd, 'removed!']);\n",
       "            Plotly.purge(gd);\n",
       "            observer.disconnect();\n",
       "        }}\n",
       "}});\n",
       "\n",
       "// Listen for the removal of the full notebook cells\n",
       "var notebookContainer = gd.closest('#notebook-container');\n",
       "if (notebookContainer) {{\n",
       "    x.observe(notebookContainer, {childList: true});\n",
       "}}\n",
       "\n",
       "// Listen for the clearing of the current output cell\n",
       "var outputEl = gd.closest('.output');\n",
       "if (outputEl) {{\n",
       "    x.observe(outputEl, {childList: true});\n",
       "}}\n",
       "\n",
       "                        })                };                });            </script>        </div>"
      ]
     },
     "metadata": {},
     "output_type": "display_data"
    }
   ],
   "execution_count": 51
  },
  {
   "metadata": {},
   "cell_type": "markdown",
   "source": "# 5",
   "id": "332ddd3bbbfb7b2"
  },
  {
   "metadata": {
    "ExecuteTime": {
     "end_time": "2024-09-15T10:31:17.278085Z",
     "start_time": "2024-09-15T10:31:17.015958Z"
    }
   },
   "cell_type": "code",
   "source": [
    "import matplotlib.pyplot as plt\n",
    "\n",
    "def get_some_dependency_by_day_of_week(data, dependency):\n",
    "    data_for_plot = data.groupby(by=['day_of_week'])[dependency].mean()\n",
    "    \n",
    "    return data_for_plot.keys(), data_for_plot\n",
    "\n",
    "def make_plot(x_value, y_value, plot_name, y_name, x_name=\"День недели\"):\n",
    "    plt.figure(plot_name)\n",
    "    params = {\n",
    "        'lines.markerfacecolor': 'white',\n",
    "        'lines.markeredgecolor': 'black',\n",
    "        'lines.marker': '.',\n",
    "        'lines.markersize': 2\n",
    "    }\n",
    "    plt.rcParams.update(params)\n",
    "\n",
    "    plt.plot(x_value, y_value, color='crimson')\n",
    "    plt.suptitle(plot_name)\n",
    "    plt.ylabel(y_name)\n",
    "    plt.xlabel(x_name)\n",
    "    plt.grid(visible=True, color='mistyrose', linewidth=2)\n",
    "    plt.show()\n",
    "    \n",
    "make_plot(\n",
    "    *get_some_dependency_by_day_of_week(data, 'attendance'),\n",
    "    plot_name=\"Зависимость посещаемости от дня недели\",\n",
    "    y_name=\"Средняя посещаемость\"\n",
    ")\n",
    "\n",
    "make_plot(\n",
    "    *get_some_dependency_by_day_of_week(data, 'length_minutes'),\n",
    "    plot_name=\"Зависимость длины матча от дня недели (в мин.)\",\n",
    "    y_name=\"Средняя посещаемость\"\n",
    ")"
   ],
   "id": "e6c9b48f03830001",
   "outputs": [
    {
     "data": {
      "text/plain": [
       "<Figure size 640x480 with 1 Axes>"
      ],
      "image/png": "[encoded data removed]"
     },
     "metadata": {},
     "output_type": "display_data"
    },
    {
     "data": {
      "text/plain": [
       "<Figure size 640x480 with 1 Axes>"
      ],
      "image/png": "[encoded data removed]"
     },
     "metadata": {},
     "output_type": "display_data"
    }
   ],
   "execution_count": 52
  },
  {
   "metadata": {},
   "cell_type": "markdown",
   "source": "# 6",
   "id": "9bf4c8137f5c2fed"
  },
  {
   "metadata": {
    "ExecuteTime": {
     "end_time": "2024-09-15T10:31:18.538504Z",
     "start_time": "2024-09-15T10:31:17.279090Z"
    }
   },
   "cell_type": "code",
   "source": [
    "from sklearn import preprocessing\n",
    "from sklearn.manifold import TSNE\n",
    "import seaborn as sns\n",
    "import time\n",
    "\n",
    "zoo_data = pd.read_csv('Zoo.csv')\n",
    "\n",
    "new_zoo_data = zoo_data.drop(['type'], axis=1)\n",
    "\n",
    "scaler = preprocessing.MinMaxScaler()\n",
    "new_zoo_data = pd.DataFrame(scaler.fit_transform(new_zoo_data), columns=new_zoo_data.columns)\n",
    "\n",
    "def tsne_plot(data, perplexity):\n",
    "    start = time.time()\n",
    "    t = TSNE(n_components=2, perplexity=perplexity, random_state=123)\n",
    "    TSNE_features = t.fit_transform(data)\n",
    "    print(\"Working time = \" + str(time.time() - start))\n",
    "    \n",
    "    DATA = data.copy()\n",
    "    DATA['x'] = TSNE_features[:, 0]\n",
    "    DATA['y'] = TSNE_features[:, 1]\n",
    "    \n",
    "    plt.figure()\n",
    "    sns.scatterplot(x='x', y='y', data=DATA, hue=zoo_data['type'], palette='bright')\n",
    "    plt.show()\n",
    "    \n",
    "tsne_plot(new_zoo_data, 5)\n",
    "tsne_plot(new_zoo_data, 25)\n",
    "tsne_plot(new_zoo_data, 50)"
   ],
   "id": "73a1293f2cecc93f",
   "outputs": [
    {
     "name": "stdout",
     "output_type": "stream",
     "text": [
      "Working time = 0.2644205093383789\n"
     ]
    },
    {
     "data": {
      "text/plain": [
       "<Figure size 640x480 with 1 Axes>"
      ],
      "image/png": "[encoded data removed]"
     },
     "metadata": {},
     "output_type": "display_data"
    },
    {
     "name": "stdout",
     "output_type": "stream",
     "text": [
      "Working time = 0.18383526802062988\n"
     ]
    },
    {
     "data": {
      "text/plain": [
       "<Figure size 640x480 with 1 Axes>"
      ],
      "image/png": "[encoded data removed]"
     },
     "metadata": {},
     "output_type": "display_data"
    },
    {
     "name": "stdout",
     "output_type": "stream",
     "text": [
      "Working time = 0.19228005409240723\n"
     ]
    },
    {
     "data": {
      "text/plain": [
       "<Figure size 640x480 with 1 Axes>"
      ],
      "image/png": "[encoded data removed]"
     },
     "metadata": {},
     "output_type": "display_data"
    }
   ],
   "execution_count": 53
  },
  {
   "metadata": {},
   "cell_type": "markdown",
   "source": "# 7",
   "id": "5771f4661ad89b27"
  },
  {
   "metadata": {
    "ExecuteTime": {
     "end_time": "2024-09-15T10:31:27.335617Z",
     "start_time": "2024-09-15T10:31:18.539510Z"
    }
   },
   "cell_type": "code",
   "source": [
    "from umap import UMAP\n",
    "\n",
    "scaler = preprocessing.MinMaxScaler()\n",
    "new_data = pd.DataFrame(scaler.fit_transform(new_zoo_data), columns=new_zoo_data.columns)\n",
    "\n",
    "neighbours_num = (5, 25, 50)\n",
    "min_distance = (0.1, 0.6)\n",
    "\n",
    "um = dict()\n",
    "fig = plt.figure()\n",
    "DATA = new_data.copy()\n",
    "\n",
    "start = time.time()\n",
    "for i in range(len(neighbours_num)):\n",
    "    for j in range(len(min_distance)):\n",
    "        um[neighbours_num[i], min_distance[j]] = (\n",
    "            UMAP(n_neighbors=neighbours_num[i], min_dist=min_distance[j]).fit_transform(DATA))\n",
    "print(\"Working time = \" + str(time.time() - start))\n",
    "\n",
    "neighbours_num = (5, 25, 50)\n",
    "min_distance = (0.1, 0.6)\n",
    "\n",
    "for i in neighbours_num:\n",
    "    for j in min_distance:\n",
    "        DATA = new_data.copy()\n",
    "        DATA['x'] = um[(i, j)][:, 0]\n",
    "        DATA['y'] = um[(i, j)][:, 1]\n",
    "        plt.title(label=f'neighbours_num={i}; min_distance={j}')\n",
    "        sns.scatterplot(x='x', y='y', data=DATA, hue=zoo_data['type'], palette='bright')\n",
    "        plt.show()\n"
   ],
   "id": "b381d4f0d0532135",
   "outputs": [
    {
     "name": "stdout",
     "output_type": "stream",
     "text": [
      "Working time = 7.894285678863525\n"
     ]
    },
    {
     "data": {
      "text/plain": [
       "<Figure size 640x480 with 1 Axes>"
      ],
      "image/png": "[encoded data removed]"
     },
     "metadata": {},
     "output_type": "display_data"
    },
    {
     "data": {
      "text/plain": [
       "<Figure size 640x480 with 1 Axes>"
      ],
      "image/png": "[encoded data removed]"
     },
     "metadata": {},
     "output_type": "display_data"
    },
    {
     "data": {
      "text/plain": [
       "<Figure size 640x480 with 1 Axes>"
      ],
      "image/png": "[encoded data removed]"
     },
     "metadata": {},
     "output_type": "display_data"
    },
    {
     "data": {
      "text/plain": [
       "<Figure size 640x480 with 1 Axes>"
      ],
      "image/png": "[encoded data removed]"
     },
     "metadata": {},
     "output_type": "display_data"
    },
    {
     "data": {
      "text/plain": [
       "<Figure size 640x480 with 1 Axes>"
      ],
      "image/png": "[encoded data removed]"
     },
     "metadata": {},
     "output_type": "display_data"
    },
    {
     "data": {
      "text/plain": [
       "<Figure size 640x480 with 1 Axes>"
      ],
      "image/png": "[encoded data removed]"
     },
     "metadata": {},
     "output_type": "display_data"
    }
   ],
   "execution_count": 54
  },
  {
   "metadata": {
    "ExecuteTime": {
     "end_time": "2024-09-15T10:31:27.338645Z",
     "start_time": "2024-09-15T10:31:27.336622Z"
    }
   },
   "cell_type": "code",
   "source": "",
   "id": "6fad78bf1ca08c46",
   "outputs": [],
   "execution_count": 54
  }
 ],
 "metadata": {
  "kernelspec": {
   "display_name": "Python 3",
   "language": "python",
   "name": "python3"
  },
  "language_info": {
   "codemirror_mode": {
    "name": "ipython",
    "version": 2
   },
   "file_extension": ".py",
   "mimetype": "text/x-python",
   "name": "python",
   "nbconvert_exporter": "python",
   "pygments_lexer": "ipython2",
   "version": "2.7.6"
  }
 },
 "nbformat": 4,
 "nbformat_minor": 5
}
