{
 "cells": [
  {
   "metadata": {},
   "cell_type": "markdown",
   "source": "# Практическая работа 1",
   "id": "b306edaacaf4d8be"
  },
  {
   "metadata": {},
   "cell_type": "markdown",
   "source": "## 2",
   "id": "b8791c635810507c"
  },
  {
   "cell_type": "code",
   "id": "initial_id",
   "metadata": {
    "collapsed": true,
    "ExecuteTime": {
     "end_time": "2024-09-07T14:07:21.836150Z",
     "start_time": "2024-09-07T14:07:05.129272Z"
    }
   },
   "source": [
    "import math\n",
    "\n",
    "def area_of_shapes() -> None:\n",
    "    a, h = map(int, input('Введите сторону и высоту треугольника: ').split())\n",
    "    areas = dict()\n",
    "    areas['треугольник'] = 1/2 * a * h\n",
    "\n",
    "    w, h = map(int, input('Введите ширину и высоту прямоугольника: ').split())\n",
    "    areas['прямоугольник'] = w * h\n",
    "\n",
    "    r = int(input('Введите радиус круга: '))\n",
    "    areas['круг'] = math.pi * r ** 2\n",
    "\n",
    "    print(areas)\n",
    "\n",
    "area_of_shapes()"
   ],
   "outputs": [
    {
     "name": "stdout",
     "output_type": "stream",
     "text": [
      "{'треугольник': 3.0, 'прямоугольник': 4, 'круг': 78.53981633974483}\n"
     ]
    }
   ],
   "execution_count": 1
  },
  {
   "metadata": {},
   "cell_type": "markdown",
   "source": "## 3",
   "id": "113dcbd06825421e"
  },
  {
   "metadata": {
    "ExecuteTime": {
     "end_time": "2024-09-07T14:07:43.022979Z",
     "start_time": "2024-09-07T14:07:31.658490Z"
    }
   },
   "cell_type": "code",
   "source": [
    "def calculator() -> None:\n",
    "    first, second = map(int, input('Введите два числа: ').split())\n",
    "    operation = input(\n",
    "        'Введите операцию (+, -, /, //, **), которую необходимо произвести: ')\n",
    "    if operation == '+':\n",
    "        print(first + second)\n",
    "    elif operation == '-':\n",
    "        print(first - second)\n",
    "    elif operation == '**':\n",
    "        print(first ** second)\n",
    "    elif operation == '/':\n",
    "        try:\n",
    "            print(first / second)\n",
    "        except ZeroDivisionError:\n",
    "            print('На ноль делить нельзя')\n",
    "    elif operation == '//':\n",
    "        try:\n",
    "            print(first // second)\n",
    "        except ZeroDivisionError:\n",
    "            print('На ноль делить нельзя')\n",
    "\n",
    "calculator()"
   ],
   "id": "c5bade07e9145f2f",
   "outputs": [
    {
     "name": "stdout",
     "output_type": "stream",
     "text": [
      "8\n"
     ]
    }
   ],
   "execution_count": 2
  },
  {
   "metadata": {},
   "cell_type": "markdown",
   "source": "## 4",
   "id": "d4a38df61b14d3e4"
  },
  {
   "metadata": {
    "ExecuteTime": {
     "end_time": "2024-09-07T14:10:22.779897Z",
     "start_time": "2024-09-07T14:10:19.448155Z"
    }
   },
   "cell_type": "code",
   "source": [
    "def numbers_sum_equals_zero() -> None:\n",
    "    print('Введите числа: ', end='')\n",
    "    sum = 0\n",
    "    squares = 0\n",
    "    while sum != 0 or squares == 0:\n",
    "        number = int(input('> '))\n",
    "        sum += number\n",
    "        squares += number ** 2\n",
    "    print('\\n', squares)\n",
    "    \n",
    "numbers_sum_equals_zero()"
   ],
   "id": "ba4623475b77a241",
   "outputs": [
    {
     "name": "stdout",
     "output_type": "stream",
     "text": [
      "Введите числа: \n",
      " 6\n"
     ]
    }
   ],
   "execution_count": 5
  },
  {
   "metadata": {},
   "cell_type": "markdown",
   "source": "## 5",
   "id": "387eacf5d03c7648"
  },
  {
   "metadata": {
    "ExecuteTime": {
     "end_time": "2024-09-07T14:11:52.743715Z",
     "start_time": "2024-09-07T14:11:49.978867Z"
    }
   },
   "cell_type": "code",
   "source": [
    "def print_numbers_n_times() -> None:\n",
    "    n = int(input('Введите длину последовательности: '))\n",
    "    if n < 0:\n",
    "        print('Число должно быть неотрицательным!')\n",
    "    result = []\n",
    "    i = 1\n",
    "    while len(result) < n:\n",
    "        for _ in range(i):\n",
    "            result.append(i)\n",
    "        i += 1\n",
    "    print(result)\n",
    "    \n",
    "print_numbers_n_times()"
   ],
   "id": "16700bd5bf4f153f",
   "outputs": [
    {
     "name": "stdout",
     "output_type": "stream",
     "text": [
      "[1, 2, 2]\n"
     ]
    }
   ],
   "execution_count": 6
  },
  {
   "metadata": {},
   "cell_type": "markdown",
   "source": "## 6",
   "id": "8e66f55737339469"
  },
  {
   "metadata": {
    "ExecuteTime": {
     "end_time": "2024-09-07T14:13:09.841240Z",
     "start_time": "2024-09-07T14:13:09.837157Z"
    }
   },
   "cell_type": "code",
   "source": [
    "def create_dict() -> None:\n",
    "    a = [1, 2, 3, 4, 2, 1, 3, 4, 5, 6, 5, 4, 3, 2]\n",
    "    b = ['a', 'b', 'c', 'c', 'c', 'b', 'a', 'c', 'a', 'a', 'b', 'c', 'b', 'a']\n",
    "    result = dict()\n",
    "    for i in range(len(b)):\n",
    "        if b[i] in result:\n",
    "            result[b[i]] += a[i]\n",
    "        else:\n",
    "            result[b[i]] = a[i]\n",
    "    print(result)\n",
    "    \n",
    "create_dict()"
   ],
   "id": "e5b33d04fada5de0",
   "outputs": [
    {
     "name": "stdout",
     "output_type": "stream",
     "text": [
      "{'a': 17, 'b': 11, 'c': 17}\n"
     ]
    }
   ],
   "execution_count": 7
  },
  {
   "metadata": {},
   "cell_type": "markdown",
   "source": "## 7",
   "id": "e71d47e756ac9d6e"
  },
  {
   "metadata": {
    "ExecuteTime": {
     "end_time": "2024-09-07T14:17:52.523143Z",
     "start_time": "2024-09-07T14:17:52.503534Z"
    }
   },
   "cell_type": "code",
   "source": [
    "from sklearn.datasets import fetch_california_housing\n",
    "\n",
    "data = fetch_california_housing(as_frame=True)\n",
    "print(data)"
   ],
   "id": "23717fccf1e5ed7f",
   "outputs": [
    {
     "name": "stdout",
     "output_type": "stream",
     "text": [
      "{'data':        MedInc  HouseAge  AveRooms  AveBedrms  Population  AveOccup  Latitude  \\\n",
      "0      8.3252      41.0  6.984127   1.023810       322.0  2.555556     37.88   \n",
      "1      8.3014      21.0  6.238137   0.971880      2401.0  2.109842     37.86   \n",
      "2      7.2574      52.0  8.288136   1.073446       496.0  2.802260     37.85   \n",
      "3      5.6431      52.0  5.817352   1.073059       558.0  2.547945     37.85   \n",
      "4      3.8462      52.0  6.281853   1.081081       565.0  2.181467     37.85   \n",
      "...       ...       ...       ...        ...         ...       ...       ...   \n",
      "20635  1.5603      25.0  5.045455   1.133333       845.0  2.560606     39.48   \n",
      "20636  2.5568      18.0  6.114035   1.315789       356.0  3.122807     39.49   \n",
      "20637  1.7000      17.0  5.205543   1.120092      1007.0  2.325635     39.43   \n",
      "20638  1.8672      18.0  5.329513   1.171920       741.0  2.123209     39.43   \n",
      "20639  2.3886      16.0  5.254717   1.162264      1387.0  2.616981     39.37   \n",
      "\n",
      "       Longitude  \n",
      "0        -122.23  \n",
      "1        -122.22  \n",
      "2        -122.24  \n",
      "3        -122.25  \n",
      "4        -122.25  \n",
      "...          ...  \n",
      "20635    -121.09  \n",
      "20636    -121.21  \n",
      "20637    -121.22  \n",
      "20638    -121.32  \n",
      "20639    -121.24  \n",
      "\n",
      "[20640 rows x 8 columns], 'target': 0        4.526\n",
      "1        3.585\n",
      "2        3.521\n",
      "3        3.413\n",
      "4        3.422\n",
      "         ...  \n",
      "20635    0.781\n",
      "20636    0.771\n",
      "20637    0.923\n",
      "20638    0.847\n",
      "20639    0.894\n",
      "Name: MedHouseVal, Length: 20640, dtype: float64, 'frame':        MedInc  HouseAge  AveRooms  AveBedrms  Population  AveOccup  Latitude  \\\n",
      "0      8.3252      41.0  6.984127   1.023810       322.0  2.555556     37.88   \n",
      "1      8.3014      21.0  6.238137   0.971880      2401.0  2.109842     37.86   \n",
      "2      7.2574      52.0  8.288136   1.073446       496.0  2.802260     37.85   \n",
      "3      5.6431      52.0  5.817352   1.073059       558.0  2.547945     37.85   \n",
      "4      3.8462      52.0  6.281853   1.081081       565.0  2.181467     37.85   \n",
      "...       ...       ...       ...        ...         ...       ...       ...   \n",
      "20635  1.5603      25.0  5.045455   1.133333       845.0  2.560606     39.48   \n",
      "20636  2.5568      18.0  6.114035   1.315789       356.0  3.122807     39.49   \n",
      "20637  1.7000      17.0  5.205543   1.120092      1007.0  2.325635     39.43   \n",
      "20638  1.8672      18.0  5.329513   1.171920       741.0  2.123209     39.43   \n",
      "20639  2.3886      16.0  5.254717   1.162264      1387.0  2.616981     39.37   \n",
      "\n",
      "       Longitude  MedHouseVal  \n",
      "0        -122.23        4.526  \n",
      "1        -122.22        3.585  \n",
      "2        -122.24        3.521  \n",
      "3        -122.25        3.413  \n",
      "4        -122.25        3.422  \n",
      "...          ...          ...  \n",
      "20635    -121.09        0.781  \n",
      "20636    -121.21        0.771  \n",
      "20637    -121.22        0.923  \n",
      "20638    -121.32        0.847  \n",
      "20639    -121.24        0.894  \n",
      "\n",
      "[20640 rows x 9 columns], 'target_names': ['MedHouseVal'], 'feature_names': ['MedInc', 'HouseAge', 'AveRooms', 'AveBedrms', 'Population', 'AveOccup', 'Latitude', 'Longitude'], 'DESCR': '.. _california_housing_dataset:\\n\\nCalifornia Housing dataset\\n--------------------------\\n\\n**Data Set Characteristics:**\\n\\n:Number of Instances: 20640\\n\\n:Number of Attributes: 8 numeric, predictive attributes and the target\\n\\n:Attribute Information:\\n    - MedInc        median income in block group\\n    - HouseAge      median house age in block group\\n    - AveRooms      average number of rooms per household\\n    - AveBedrms     average number of bedrooms per household\\n    - Population    block group population\\n    - AveOccup      average number of household members\\n    - Latitude      block group latitude\\n    - Longitude     block group longitude\\n\\n:Missing Attribute Values: None\\n\\nThis dataset was obtained from the StatLib repository.\\nhttps://www.dcc.fc.up.pt/~ltorgo/Regression/cal_housing.html\\n\\nThe target variable is the median house value for California districts,\\nexpressed in hundreds of thousands of dollars ($100,000).\\n\\nThis dataset was derived from the 1990 U.S. census, using one row per census\\nblock group. A block group is the smallest geographical unit for which the U.S.\\nCensus Bureau publishes sample data (a block group typically has a population\\nof 600 to 3,000 people).\\n\\nA household is a group of people residing within a home. Since the average\\nnumber of rooms and bedrooms in this dataset are provided per household, these\\ncolumns may take surprisingly large values for block groups with few households\\nand many empty houses, such as vacation resorts.\\n\\nIt can be downloaded/loaded using the\\n:func:`sklearn.datasets.fetch_california_housing` function.\\n\\n.. topic:: References\\n\\n    - Pace, R. Kelley and Ronald Barry, Sparse Spatial Autoregressions,\\n      Statistics and Probability Letters, 33 (1997) 291-297\\n'}\n"
     ]
    }
   ],
   "execution_count": 10
  },
  {
   "metadata": {},
   "cell_type": "markdown",
   "source": "## 8",
   "id": "683776a37d41c889"
  },
  {
   "metadata": {
    "ExecuteTime": {
     "end_time": "2024-09-07T14:21:26.293114Z",
     "start_time": "2024-09-07T14:21:26.283295Z"
    }
   },
   "cell_type": "code",
   "source": [
    "import pandas as pd\n",
    "\n",
    "\n",
    "data_frame = pd.DataFrame(data=data.data, columns=data.feature_names)\n",
    "print(data_frame.info())"
   ],
   "id": "d932e5c550af6bb1",
   "outputs": [
    {
     "name": "stdout",
     "output_type": "stream",
     "text": [
      "<class 'pandas.core.frame.DataFrame'>\n",
      "RangeIndex: 20640 entries, 0 to 20639\n",
      "Data columns (total 8 columns):\n",
      " #   Column      Non-Null Count  Dtype  \n",
      "---  ------      --------------  -----  \n",
      " 0   MedInc      20640 non-null  float64\n",
      " 1   HouseAge    20640 non-null  float64\n",
      " 2   AveRooms    20640 non-null  float64\n",
      " 3   AveBedrms   20640 non-null  float64\n",
      " 4   Population  20640 non-null  float64\n",
      " 5   AveOccup    20640 non-null  float64\n",
      " 6   Latitude    20640 non-null  float64\n",
      " 7   Longitude   20640 non-null  float64\n",
      "dtypes: float64(8)\n",
      "memory usage: 1.3 MB\n",
      "None\n"
     ]
    }
   ],
   "execution_count": 13
  },
  {
   "metadata": {},
   "cell_type": "markdown",
   "source": "## 9",
   "id": "48b144de6c6e092"
  },
  {
   "metadata": {
    "ExecuteTime": {
     "end_time": "2024-09-07T14:22:58.278935Z",
     "start_time": "2024-09-07T14:22:58.270225Z"
    }
   },
   "cell_type": "code",
   "source": "data_frame.isna().sum()",
   "id": "77d67331fe2aaaee",
   "outputs": [
    {
     "data": {
      "text/plain": [
       "MedInc        0\n",
       "HouseAge      0\n",
       "AveRooms      0\n",
       "AveBedrms     0\n",
       "Population    0\n",
       "AveOccup      0\n",
       "Latitude      0\n",
       "Longitude     0\n",
       "dtype: int64"
      ]
     },
     "execution_count": 14,
     "metadata": {},
     "output_type": "execute_result"
    }
   ],
   "execution_count": 14
  },
  {
   "metadata": {},
   "cell_type": "markdown",
   "source": "## 10",
   "id": "d4107d3ff4fc4d0c"
  },
  {
   "metadata": {
    "ExecuteTime": {
     "end_time": "2024-09-07T14:26:37.044378Z",
     "start_time": "2024-09-07T14:26:37.031265Z"
    }
   },
   "cell_type": "code",
   "source": "data.data.loc[(data.data['HouseAge'] > 50) & (data.data['Population'] > 2500)]",
   "id": "859c57da50a5a1b3",
   "outputs": [
    {
     "data": {
      "text/plain": [
       "       MedInc  HouseAge  AveRooms  AveBedrms  Population    AveOccup  \\\n",
       "460    1.4012      52.0  3.105714   1.060000      3337.0    9.534286   \n",
       "4131   3.5349      52.0  4.646119   1.047945      2589.0    5.910959   \n",
       "4440   2.6806      52.0  4.806283   1.057592      3062.0    4.007853   \n",
       "5986   1.8750      52.0  4.500000   1.206349      2688.0   21.333333   \n",
       "7369   3.1901      52.0  4.730942   1.017937      3731.0    4.182735   \n",
       "8227   2.3305      52.0  3.488860   1.170380      3018.0    3.955439   \n",
       "13034  6.1359      52.0  8.275862   1.517241      6675.0  230.172414   \n",
       "15634  1.8295      52.0  2.628169   1.053521      2957.0    4.164789   \n",
       "15652  0.9000      52.0  2.237474   1.053535      3260.0    2.237474   \n",
       "15657  2.5166      52.0  2.839075   1.184049      3436.0    1.621520   \n",
       "15659  1.7240      52.0  2.278566   1.082348      4518.0    1.780142   \n",
       "15795  2.5755      52.0  3.402576   1.058776      2619.0    2.108696   \n",
       "15868  2.8135      52.0  4.584329   1.041169      2987.0    3.966799   \n",
       "\n",
       "       Latitude  Longitude  \n",
       "460       37.87    -122.26  \n",
       "4131      34.13    -118.20  \n",
       "4440      34.08    -118.21  \n",
       "5986      34.10    -117.71  \n",
       "7369      33.97    -118.21  \n",
       "8227      33.78    -118.20  \n",
       "13034     38.69    -121.15  \n",
       "15634     37.80    -122.41  \n",
       "15652     37.80    -122.41  \n",
       "15657     37.79    -122.41  \n",
       "15659     37.79    -122.41  \n",
       "15795     37.77    -122.42  \n",
       "15868     37.76    -122.41  "
      ],
      "text/html": [
       "<div>\n",
       "<style scoped>\n",
       "    .dataframe tbody tr th:only-of-type {\n",
       "        vertical-align: middle;\n",
       "    }\n",
       "\n",
       "    .dataframe tbody tr th {\n",
       "        vertical-align: top;\n",
       "    }\n",
       "\n",
       "    .dataframe thead th {\n",
       "        text-align: right;\n",
       "    }\n",
       "</style>\n",
       "<table border=\"1\" class=\"dataframe\">\n",
       "  <thead>\n",
       "    <tr style=\"text-align: right;\">\n",
       "      <th></th>\n",
       "      <th>MedInc</th>\n",
       "      <th>HouseAge</th>\n",
       "      <th>AveRooms</th>\n",
       "      <th>AveBedrms</th>\n",
       "      <th>Population</th>\n",
       "      <th>AveOccup</th>\n",
       "      <th>Latitude</th>\n",
       "      <th>Longitude</th>\n",
       "    </tr>\n",
       "  </thead>\n",
       "  <tbody>\n",
       "    <tr>\n",
       "      <th>460</th>\n",
       "      <td>1.4012</td>\n",
       "      <td>52.0</td>\n",
       "      <td>3.105714</td>\n",
       "      <td>1.060000</td>\n",
       "      <td>3337.0</td>\n",
       "      <td>9.534286</td>\n",
       "      <td>37.87</td>\n",
       "      <td>-122.26</td>\n",
       "    </tr>\n",
       "    <tr>\n",
       "      <th>4131</th>\n",
       "      <td>3.5349</td>\n",
       "      <td>52.0</td>\n",
       "      <td>4.646119</td>\n",
       "      <td>1.047945</td>\n",
       "      <td>2589.0</td>\n",
       "      <td>5.910959</td>\n",
       "      <td>34.13</td>\n",
       "      <td>-118.20</td>\n",
       "    </tr>\n",
       "    <tr>\n",
       "      <th>4440</th>\n",
       "      <td>2.6806</td>\n",
       "      <td>52.0</td>\n",
       "      <td>4.806283</td>\n",
       "      <td>1.057592</td>\n",
       "      <td>3062.0</td>\n",
       "      <td>4.007853</td>\n",
       "      <td>34.08</td>\n",
       "      <td>-118.21</td>\n",
       "    </tr>\n",
       "    <tr>\n",
       "      <th>5986</th>\n",
       "      <td>1.8750</td>\n",
       "      <td>52.0</td>\n",
       "      <td>4.500000</td>\n",
       "      <td>1.206349</td>\n",
       "      <td>2688.0</td>\n",
       "      <td>21.333333</td>\n",
       "      <td>34.10</td>\n",
       "      <td>-117.71</td>\n",
       "    </tr>\n",
       "    <tr>\n",
       "      <th>7369</th>\n",
       "      <td>3.1901</td>\n",
       "      <td>52.0</td>\n",
       "      <td>4.730942</td>\n",
       "      <td>1.017937</td>\n",
       "      <td>3731.0</td>\n",
       "      <td>4.182735</td>\n",
       "      <td>33.97</td>\n",
       "      <td>-118.21</td>\n",
       "    </tr>\n",
       "    <tr>\n",
       "      <th>8227</th>\n",
       "      <td>2.3305</td>\n",
       "      <td>52.0</td>\n",
       "      <td>3.488860</td>\n",
       "      <td>1.170380</td>\n",
       "      <td>3018.0</td>\n",
       "      <td>3.955439</td>\n",
       "      <td>33.78</td>\n",
       "      <td>-118.20</td>\n",
       "    </tr>\n",
       "    <tr>\n",
       "      <th>13034</th>\n",
       "      <td>6.1359</td>\n",
       "      <td>52.0</td>\n",
       "      <td>8.275862</td>\n",
       "      <td>1.517241</td>\n",
       "      <td>6675.0</td>\n",
       "      <td>230.172414</td>\n",
       "      <td>38.69</td>\n",
       "      <td>-121.15</td>\n",
       "    </tr>\n",
       "    <tr>\n",
       "      <th>15634</th>\n",
       "      <td>1.8295</td>\n",
       "      <td>52.0</td>\n",
       "      <td>2.628169</td>\n",
       "      <td>1.053521</td>\n",
       "      <td>2957.0</td>\n",
       "      <td>4.164789</td>\n",
       "      <td>37.80</td>\n",
       "      <td>-122.41</td>\n",
       "    </tr>\n",
       "    <tr>\n",
       "      <th>15652</th>\n",
       "      <td>0.9000</td>\n",
       "      <td>52.0</td>\n",
       "      <td>2.237474</td>\n",
       "      <td>1.053535</td>\n",
       "      <td>3260.0</td>\n",
       "      <td>2.237474</td>\n",
       "      <td>37.80</td>\n",
       "      <td>-122.41</td>\n",
       "    </tr>\n",
       "    <tr>\n",
       "      <th>15657</th>\n",
       "      <td>2.5166</td>\n",
       "      <td>52.0</td>\n",
       "      <td>2.839075</td>\n",
       "      <td>1.184049</td>\n",
       "      <td>3436.0</td>\n",
       "      <td>1.621520</td>\n",
       "      <td>37.79</td>\n",
       "      <td>-122.41</td>\n",
       "    </tr>\n",
       "    <tr>\n",
       "      <th>15659</th>\n",
       "      <td>1.7240</td>\n",
       "      <td>52.0</td>\n",
       "      <td>2.278566</td>\n",
       "      <td>1.082348</td>\n",
       "      <td>4518.0</td>\n",
       "      <td>1.780142</td>\n",
       "      <td>37.79</td>\n",
       "      <td>-122.41</td>\n",
       "    </tr>\n",
       "    <tr>\n",
       "      <th>15795</th>\n",
       "      <td>2.5755</td>\n",
       "      <td>52.0</td>\n",
       "      <td>3.402576</td>\n",
       "      <td>1.058776</td>\n",
       "      <td>2619.0</td>\n",
       "      <td>2.108696</td>\n",
       "      <td>37.77</td>\n",
       "      <td>-122.42</td>\n",
       "    </tr>\n",
       "    <tr>\n",
       "      <th>15868</th>\n",
       "      <td>2.8135</td>\n",
       "      <td>52.0</td>\n",
       "      <td>4.584329</td>\n",
       "      <td>1.041169</td>\n",
       "      <td>2987.0</td>\n",
       "      <td>3.966799</td>\n",
       "      <td>37.76</td>\n",
       "      <td>-122.41</td>\n",
       "    </tr>\n",
       "  </tbody>\n",
       "</table>\n",
       "</div>"
      ]
     },
     "execution_count": 18,
     "metadata": {},
     "output_type": "execute_result"
    }
   ],
   "execution_count": 18
  },
  {
   "metadata": {},
   "cell_type": "markdown",
   "source": "## 11",
   "id": "6a16764993afd16f"
  },
  {
   "metadata": {
    "ExecuteTime": {
     "end_time": "2024-09-07T14:27:12.057944Z",
     "start_time": "2024-09-07T14:27:12.053960Z"
    }
   },
   "cell_type": "code",
   "source": "print(data.data['MedInc'].max())",
   "id": "95fe83ae36c21ed9",
   "outputs": [
    {
     "name": "stdout",
     "output_type": "stream",
     "text": [
      "15.0001\n"
     ]
    }
   ],
   "execution_count": 19
  },
  {
   "metadata": {
    "ExecuteTime": {
     "end_time": "2024-09-07T14:27:21.812642Z",
     "start_time": "2024-09-07T14:27:21.808975Z"
    }
   },
   "cell_type": "code",
   "source": "print(data.data['MedInc'].min())",
   "id": "69f1f8f93b510371",
   "outputs": [
    {
     "name": "stdout",
     "output_type": "stream",
     "text": [
      "0.4999\n"
     ]
    }
   ],
   "execution_count": 20
  },
  {
   "metadata": {},
   "cell_type": "markdown",
   "source": "## 12",
   "id": "e391b601621d6d5a"
  },
  {
   "metadata": {
    "ExecuteTime": {
     "end_time": "2024-09-07T14:29:17.571016Z",
     "start_time": "2024-09-07T14:29:17.564172Z"
    }
   },
   "cell_type": "code",
   "source": [
    "import numpy as np\n",
    "\n",
    "data.data.apply(np.mean)"
   ],
   "id": "440408177aaedb67",
   "outputs": [
    {
     "data": {
      "text/plain": [
       "MedInc           3.870671\n",
       "HouseAge        28.639486\n",
       "AveRooms         5.429000\n",
       "AveBedrms        1.096675\n",
       "Population    1425.476744\n",
       "AveOccup         3.070655\n",
       "Latitude        35.631861\n",
       "Longitude     -119.569704\n",
       "dtype: float64"
      ]
     },
     "execution_count": 24,
     "metadata": {},
     "output_type": "execute_result"
    }
   ],
   "execution_count": 24
  },
  {
   "metadata": {},
   "cell_type": "markdown",
   "source": "## 1*",
   "id": "1c19eed637ea8e47"
  },
  {
   "metadata": {
    "ExecuteTime": {
     "end_time": "2024-09-07T14:35:43.573659Z",
     "start_time": "2024-09-07T14:35:34.523992Z"
    }
   },
   "cell_type": "code",
   "source": [
    "morze = {'a': '.-', 'b': '-…', 'c': '-.-.', 'd': '-..',\n",
    " 'e': '.', 'f': '..-.', 'g': '--.', 'h': '….',\n",
    " 'i': '..', 'j': '.---', 'k': '-.-', 'l': '.-..',\n",
    " 'm': '--', 'n': '-.', 'o': '---', 'p': '.--.',\n",
    " 'q': '--.-', 'r': '.-.', 's': '…', 't': '-',\n",
    " 'u': '..-', 'v': '…-', 'w': '.--', 'x': '-..-',\n",
    " 'y': '-.--', 'z': '--..'}\n",
    "\n",
    "def encode_text():\n",
    "    inp = input(\"Введите предложение из строчных английских букв и пробелов: \").lower()\n",
    "\n",
    "    if any(char.isdigit() for char in inp):\n",
    "        raise Exception(\"Неправильный ввод\")\n",
    "\n",
    "    result = \"\"\n",
    "\n",
    "    for char in inp:\n",
    "        if char == \" \":\n",
    "            result += \"\\n\"\n",
    "            continue\n",
    "\n",
    "        morze_associated_character = morze.get(char, None)\n",
    "        \n",
    "        if morze_associated_character is None:\n",
    "            raise Exception(f\"Неправильный ввод: символ {char} нельзя закодировать с помощью морзе\")\n",
    "\n",
    "        result += f\"{morze_associated_character} \"\n",
    "\n",
    "    print(f\"Morse interpretation:\\n{result}\")\n",
    "    \n",
    "encode_text()"
   ],
   "id": "bbd12e25e060b4f2",
   "outputs": [
    {
     "name": "stdout",
     "output_type": "stream",
     "text": [
      "Morse interpretation:\n",
      ".- .-- . .-. --. …. .--- ..-. .- …. .--- .-- . \n",
      "\n",
      ". .-- ..-. .- .-- . \n",
      ". ..-. \n",
      ". ..-. . \n"
     ]
    }
   ],
   "execution_count": 26
  },
  {
   "metadata": {},
   "cell_type": "markdown",
   "source": "## 2*",
   "id": "4b1c7988c7b0ccae"
  },
  {
   "metadata": {
    "ExecuteTime": {
     "end_time": "2024-09-07T14:40:47.930627Z",
     "start_time": "2024-09-07T14:40:40.722571Z"
    }
   },
   "cell_type": "code",
   "source": [
    "def register():\n",
    "    users = {}\n",
    "\n",
    "    number_of_user_requests = int(input(\"Введите количество запросов: \"))\n",
    "    print(\"Введите запрос: \")\n",
    "\n",
    "    for i in range(number_of_user_requests):\n",
    "        user_name = input()\n",
    "        user = users.get(user_name, None)\n",
    "\n",
    "        if user is None:\n",
    "            users[user_name] = 0\n",
    "            print(\"OK\")\n",
    "            continue\n",
    "\n",
    "        users[user_name] += 1\n",
    "        print(f\"{user_name}{users[user_name]}\")\n",
    "\n",
    "register()"
   ],
   "id": "9981acf940acd4dd",
   "outputs": [
    {
     "name": "stdout",
     "output_type": "stream",
     "text": [
      "Введите запрос: \n",
      "OK\n",
      "name1\n"
     ]
    }
   ],
   "execution_count": 27
  },
  {
   "metadata": {},
   "cell_type": "markdown",
   "source": "## 3*",
   "id": "afd4ca9cbdfa91ae"
  },
  {
   "metadata": {
    "ExecuteTime": {
     "end_time": "2024-09-07T14:54:20.304498Z",
     "start_time": "2024-09-07T14:53:49.649172Z"
    }
   },
   "cell_type": "code",
   "source": [
    "class File:\n",
    "    def __init__(self, write: bool, read: bool, execute: bool):\n",
    "        self.write = write\n",
    "        self.read = read\n",
    "        self.execute = execute\n",
    "\n",
    "\n",
    "def task_3():\n",
    "    file_count = int(input(\"Enter file count: \"))\n",
    "    files = {}\n",
    "    print(\"Enter file names and permissions: \")\n",
    "    for i in range(file_count):\n",
    "        read_data = input().split()\n",
    "        file_name, file_permissions = read_data[0], read_data[1:]\n",
    "\n",
    "        read_permission, write_permission, execute_permission = False, False, False\n",
    "        for symbol in file_permissions:\n",
    "            if symbol == \" \":\n",
    "                continue\n",
    "            if symbol == \"r\":\n",
    "                read_permission = True\n",
    "            elif symbol == \"w\":\n",
    "                write_permission = True\n",
    "            elif symbol == \"x\":\n",
    "                execute_permission = True\n",
    "            else:\n",
    "                raise Exception(f\"Invalid permission: {symbol}\")\n",
    "            files[file_name] = File(write_permission, read_permission, execute_permission)\n",
    "\n",
    "    print(\"Enter number of requests: \")\n",
    "    number_of_requests = int(input())\n",
    "    print(\"Enter the requests: \")\n",
    "\n",
    "    for i in range(number_of_requests):\n",
    "        operation, filename = input().split()\n",
    "        file = files.get(filename, None)\n",
    "\n",
    "        if file is None:\n",
    "            raise Exception(f\"File not found: {filename}\")\n",
    "\n",
    "        if getattr(file, operation):\n",
    "            print('OK')\n",
    "        else:\n",
    "            print('Access denied')\n",
    "\n",
    "task_3()"
   ],
   "id": "a3ccbd8f289fd8fb",
   "outputs": [
    {
     "name": "stdout",
     "output_type": "stream",
     "text": [
      "Enter file names and permissions: \n",
      "Enter number of requests: \n",
      "Enter the requests: \n",
      "Access denied\n",
      "OK\n",
      "OK\n",
      "OK\n",
      "OK\n"
     ]
    }
   ],
   "execution_count": 32
  }
 ],
 "metadata": {
  "kernelspec": {
   "display_name": "Python 3",
   "language": "python",
   "name": "python3"
  },
  "language_info": {
   "codemirror_mode": {
    "name": "ipython",
    "version": 2
   },
   "file_extension": ".py",
   "mimetype": "text/x-python",
   "name": "python",
   "nbconvert_exporter": "python",
   "pygments_lexer": "ipython2",
   "version": "2.7.6"
  }
 },
 "nbformat": 4,
 "nbformat_minor": 5
}
