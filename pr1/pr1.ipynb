{
 "cells": [
  {
   "cell_type": "code",
   "execution_count": null,
   "id": "initial_id",
   "metadata": {
    "collapsed": true
   },
   "outputs": [],
   "source": [
    "def area_of_shapes() -> None:\n",
    "    a, h = map(int, input('Введите сторону и высоту треугольника: ').split())\n",
    "    areas = dict()\n",
    "    areas['треугольник'] = 1/2 * a * h\n",
    "\n",
    "    w, h = map(int, input('Введите ширину и высоту прямоугольника: ').split())\n",
    "    areas['прямоугольник'] = w * h\n",
    "\n",
    "    r = int(input('Введите радиус круга: '))\n",
    "    areas['круг'] = math.pi * r ** 2\n",
    "\n",
    "    print(areas)"
   ]
  },
  {
   "metadata": {},
   "cell_type": "code",
   "outputs": [],
   "execution_count": null,
   "source": [
    "def not_calculator() -> None:\n",
    "    first, second = map(int, input('Введите два числа: ').split())\n",
    "    operation = input(\n",
    "        'Введите операцию (+, -, /, //, **), которую необходимо произвести: ')\n",
    "    if operation == '+':\n",
    "        print(first + second)\n",
    "    elif operation == '-':\n",
    "        print(first - second)\n",
    "    elif operation == '/':\n",
    "        try:\n",
    "            print(first / second)\n",
    "        except ZeroDivisionError:\n",
    "            print('На ноль делить нельзя!')\n",
    "    elif operation == '//':\n",
    "        try:\n",
    "            print(first // second)\n",
    "        except ZeroDivisionError:\n",
    "            print('На ноль делить нельзя!')\n",
    "    elif operation == '**':\n",
    "        print(first ** second)"
   ],
   "id": "c5bade07e9145f2f"
  }
 ],
 "metadata": {
  "kernelspec": {
   "display_name": "Python 3",
   "language": "python",
   "name": "python3"
  },
  "language_info": {
   "codemirror_mode": {
    "name": "ipython",
    "version": 2
   },
   "file_extension": ".py",
   "mimetype": "text/x-python",
   "name": "python",
   "nbconvert_exporter": "python",
   "pygments_lexer": "ipython2",
   "version": "2.7.6"
  }
 },
 "nbformat": 4,
 "nbformat_minor": 5
}
